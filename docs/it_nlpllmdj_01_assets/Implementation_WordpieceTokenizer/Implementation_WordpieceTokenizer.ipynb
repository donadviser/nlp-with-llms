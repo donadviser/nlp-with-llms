{
  "cells": [
    {
      "cell_type": "markdown",
      "id": "4985a617",
      "metadata": {
        "id": "4985a617"
      },
      "source": [
        "Referred doc link- https://huggingface.co/learn/nlp-course/chapter6/6?fw=pt#implementing-wordpiece"
      ]
    },
    {
      "cell_type": "code",
      "execution_count": 22,
      "id": "7c84603d",
      "metadata": {
        "colab": {
          "base_uri": "https://localhost:8080/"
        },
        "id": "7c84603d",
        "outputId": "5740a5a9-89d2-47b7-cbbf-8c93bc953e53"
      },
      "outputs": [
        {
          "output_type": "execute_result",
          "data": {
            "text/plain": [
              "['This is a Natural Language Processing course.',\n",
              " 'We will learn about tokenization.',\n",
              " 'Here, we will explore Wordpiece tokenizers',\n",
              " 'We will be able to understand how tokenizers are trained and tokens are generated.']"
            ]
          },
          "metadata": {},
          "execution_count": 22
        }
      ],
      "source": [
        "corpus = [\n",
        "    \"This is a Natural Language Processing course.\",\n",
        "    \"We will learn about tokenization.\",\n",
        "    \"Here, we will explore Wordpiece tokenizers\",\n",
        "    \"We will be able to understand how tokenizers are trained and tokens are generated.\",\n",
        "]\n",
        "\n",
        "corpus"
      ]
    },
    {
      "cell_type": "markdown",
      "id": "92a6391d",
      "metadata": {
        "id": "92a6391d"
      },
      "source": [
        "First, we need to pre-tokenize the corpus into words. Since we are replicating a WordPiece tokenizer (like BERT), we will use the bert-base-cased tokenizer for the pre-tokenization:"
      ]
    },
    {
      "cell_type": "code",
      "execution_count": 4,
      "id": "c13cdfd9",
      "metadata": {
        "colab": {
          "base_uri": "https://localhost:8080/",
          "height": 284,
          "referenced_widgets": [
            "c4f50d73c28043329ad368e400843721",
            "0b9461c5834b425ea26cac91c2ec8379",
            "ab9998cc43824198bb6a8f405753e5ee",
            "190389cc78954b5eb76bec58cf486d5f",
            "c44b7d31c6e0484296e4c32cc5ae9d34",
            "7d5f571c701a4899bff1cd27b21f1c72",
            "771eb9890743414093dcd2c6b484a947",
            "6a68fd6782a741c39ee0db35f59c5930",
            "364b88d511e74a5b845e467859dfb173",
            "f96da6418bd8410c8588cc60fc01b842",
            "9ab42621b00c4277a2a6b52984aee7a6",
            "6cbb494f01c444c980219d0f2bb1f1ea",
            "a97853de55274d3b9da5cffb2c7cda37",
            "670ba01a4faa43099a19df5e88f62337",
            "0fe1a8c7ff5c42fb8abd35adcd6532d1",
            "2a39dc43e20b436fb17577165623c16e",
            "01c0803ebfa04f31a9688ff2abee3a4b",
            "ebf81be572c54ee6b4381100d443d29a",
            "825a6af4aaaf4f0b9b2edcd09d689c83",
            "d3e974ea0fc44d5a94cea6dd6ee65ddb",
            "02d5cd2aff894642be101725fdd5622a",
            "31a43859b0884d3cbb493472712a43ed",
            "3d2b100130dc4985947b10558455970d",
            "7e23f6cf2d274c9b963407b0dbcaabd5",
            "4b602807e98c4a649150cbd3396f89f0",
            "12b26d59ed2e42eeb6e984a6ba196ecf",
            "7c1a01931f7c4cdd8800bf2a8aa9745c",
            "adf3e125bc2540c9b04ff0f715e7dd42",
            "d788cdbf93174f4c87460fc27771ed85",
            "3d75f00e0eb241f798dc0f5c512b4bdc",
            "6d20c2c3d1dd4cfb86b82b47030cec18",
            "7596f7052c7a42928c8f8aa9acd0dcde",
            "88c2b40cad5c48c7a81524dffe81ebe4",
            "7dfdb31dff2d42b487104ca8cd4cdcbd",
            "df12a2e2c2fd4c52a076fb36438c26f0",
            "d289338a25f245278e66063a57fc06f8",
            "6ddd3aa658644d60ac3c6f7bd1cfb18f",
            "3dba6d5848bf4e5eb8f660c181f775f4",
            "ab20c2c0b44c4940bbe4e015df75fbd6",
            "60f2ef8c9a2b40dda94a0b7237a26133",
            "658d42fa4f4241878c11d4c46b9d844d",
            "58c4e71112604dd69b70adf87dc5c34f",
            "b9ee3077182046e197216ffe4adbdb3c",
            "890a29564cf646c89d08406a9fe9eeca"
          ]
        },
        "id": "c13cdfd9",
        "outputId": "97ab898b-ac7c-43cd-8425-7183b6ecfc64"
      },
      "outputs": [
        {
          "output_type": "display_data",
          "data": {
            "text/plain": [
              "tokenizer_config.json:   0%|          | 0.00/29.0 [00:00<?, ?B/s]"
            ],
            "application/vnd.jupyter.widget-view+json": {
              "version_major": 2,
              "version_minor": 0,
              "model_id": "c4f50d73c28043329ad368e400843721"
            }
          },
          "metadata": {}
        },
        {
          "output_type": "display_data",
          "data": {
            "text/plain": [
              "config.json:   0%|          | 0.00/570 [00:00<?, ?B/s]"
            ],
            "application/vnd.jupyter.widget-view+json": {
              "version_major": 2,
              "version_minor": 0,
              "model_id": "6cbb494f01c444c980219d0f2bb1f1ea"
            }
          },
          "metadata": {}
        },
        {
          "output_type": "display_data",
          "data": {
            "text/plain": [
              "vocab.txt:   0%|          | 0.00/213k [00:00<?, ?B/s]"
            ],
            "application/vnd.jupyter.widget-view+json": {
              "version_major": 2,
              "version_minor": 0,
              "model_id": "3d2b100130dc4985947b10558455970d"
            }
          },
          "metadata": {}
        },
        {
          "output_type": "display_data",
          "data": {
            "text/plain": [
              "tokenizer.json:   0%|          | 0.00/436k [00:00<?, ?B/s]"
            ],
            "application/vnd.jupyter.widget-view+json": {
              "version_major": 2,
              "version_minor": 0,
              "model_id": "7dfdb31dff2d42b487104ca8cd4cdcbd"
            }
          },
          "metadata": {}
        },
        {
          "output_type": "execute_result",
          "data": {
            "text/plain": [
              "BertTokenizerFast(name_or_path='bert-base-cased', vocab_size=28996, model_max_length=512, is_fast=True, padding_side='right', truncation_side='right', special_tokens={'unk_token': '[UNK]', 'sep_token': '[SEP]', 'pad_token': '[PAD]', 'cls_token': '[CLS]', 'mask_token': '[MASK]'}, clean_up_tokenization_spaces=True),  added_tokens_decoder={\n",
              "\t0: AddedToken(\"[PAD]\", rstrip=False, lstrip=False, single_word=False, normalized=False, special=True),\n",
              "\t100: AddedToken(\"[UNK]\", rstrip=False, lstrip=False, single_word=False, normalized=False, special=True),\n",
              "\t101: AddedToken(\"[CLS]\", rstrip=False, lstrip=False, single_word=False, normalized=False, special=True),\n",
              "\t102: AddedToken(\"[SEP]\", rstrip=False, lstrip=False, single_word=False, normalized=False, special=True),\n",
              "\t103: AddedToken(\"[MASK]\", rstrip=False, lstrip=False, single_word=False, normalized=False, special=True),\n",
              "}"
            ]
          },
          "metadata": {},
          "execution_count": 4
        }
      ],
      "source": [
        "from transformers import AutoTokenizer\n",
        "\n",
        "tokenizer = AutoTokenizer.from_pretrained(\"bert-base-cased\")\n",
        "\n",
        "tokenizer"
      ]
    },
    {
      "cell_type": "markdown",
      "id": "58bee865",
      "metadata": {
        "id": "58bee865"
      },
      "source": [
        "Then, we need to initialize our vocabulary to something larger than the vocab size we will want at the end. We have to include all the basic characters (otherwise we won’t be able to tokenize every word), but for the bigger substrings we’ll only keep the most common ones, so we sort them by frequency\n"
      ]
    },
    {
      "cell_type": "code",
      "execution_count": 23,
      "id": "b7573d70",
      "metadata": {
        "colab": {
          "base_uri": "https://localhost:8080/"
        },
        "id": "b7573d70",
        "outputId": "a488b193-e82c-49e7-f0d5-7763ba046df6"
      },
      "outputs": [
        {
          "output_type": "execute_result",
          "data": {
            "text/plain": [
              "defaultdict(int,\n",
              "            {'This': 1,\n",
              "             'is': 1,\n",
              "             'a': 1,\n",
              "             'Natural': 1,\n",
              "             'Language': 1,\n",
              "             'Processing': 1,\n",
              "             'course': 1,\n",
              "             '.': 3,\n",
              "             'We': 2,\n",
              "             'will': 3,\n",
              "             'learn': 1,\n",
              "             'about': 1,\n",
              "             'tokenization': 1,\n",
              "             'Here': 1,\n",
              "             ',': 1,\n",
              "             'we': 1,\n",
              "             'explore': 1,\n",
              "             'Wordpiece': 1,\n",
              "             'tokenizers': 2,\n",
              "             'be': 1,\n",
              "             'able': 1,\n",
              "             'to': 1,\n",
              "             'understand': 1,\n",
              "             'how': 1,\n",
              "             'are': 2,\n",
              "             'trained': 1,\n",
              "             'and': 1,\n",
              "             'tokens': 1,\n",
              "             'generated': 1})"
            ]
          },
          "metadata": {},
          "execution_count": 23
        }
      ],
      "source": [
        "from collections import defaultdict\n",
        "\n",
        "word_freqs = defaultdict(int)\n",
        "\n",
        "for text in corpus:\n",
        "\n",
        "    words_with_offsets = tokenizer.backend_tokenizer.pre_tokenizer.pre_tokenize_str(text)\n",
        "\n",
        "    words = [word for word, offset in words_with_offsets]\n",
        "\n",
        "    for word in words:\n",
        "        word_freqs[word] += 1\n",
        "\n",
        "word_freqs"
      ]
    },
    {
      "cell_type": "markdown",
      "id": "889a7e8e",
      "metadata": {
        "id": "889a7e8e"
      },
      "source": [
        "Then, we need to initialize our vocabulary to something larger than the vocab size we will want at the end. We have to include all the basic characters (otherwise we won’t be able to tokenize every word), but for the bigger substrings we’ll only keep the most common ones, so we sort them by frequency"
      ]
    },
    {
      "cell_type": "code",
      "execution_count": 24,
      "id": "87941cc7",
      "metadata": {
        "colab": {
          "base_uri": "https://localhost:8080/"
        },
        "id": "87941cc7",
        "outputId": "fdf0e2d4-a089-4b45-e4ae-b1437ff39b7a"
      },
      "outputs": [
        {
          "output_type": "stream",
          "name": "stdout",
          "text": [
            "['##a', '##b', '##c', '##d', '##e', '##g', '##h', '##i', '##k', '##l', '##n', '##o', '##p', '##r', '##s', '##t', '##u', '##w', '##x', '##z', ',', '.', 'H', 'L', 'N', 'P', 'T', 'W', 'a', 'b', 'c', 'e', 'g', 'h', 'i', 'l', 't', 'u', 'w']\n"
          ]
        }
      ],
      "source": [
        "alphabet = []\n",
        "\n",
        "for word in word_freqs.keys():\n",
        "\n",
        "    if word[0] not in alphabet:\n",
        "        alphabet.append(word[0])\n",
        "\n",
        "    for letter in word[1:]:\n",
        "        if f\"##{letter}\" not in alphabet:\n",
        "            alphabet.append(f\"##{letter}\")\n",
        "\n",
        "alphabet.sort()\n",
        "\n",
        "print(alphabet)"
      ]
    },
    {
      "cell_type": "code",
      "execution_count": 25,
      "id": "c6e8a738",
      "metadata": {
        "colab": {
          "base_uri": "https://localhost:8080/"
        },
        "id": "c6e8a738",
        "outputId": "bd204071-08c8-4cb6-f9bb-f7a7768139c9"
      },
      "outputs": [
        {
          "output_type": "execute_result",
          "data": {
            "text/plain": [
              "39"
            ]
          },
          "metadata": {},
          "execution_count": 25
        }
      ],
      "source": [
        "len(alphabet)"
      ]
    },
    {
      "cell_type": "markdown",
      "id": "f54ddd74",
      "metadata": {
        "id": "f54ddd74"
      },
      "source": [
        "We also add the special tokens used by the model at the beginning of that vocabulary. In the case of BERT, it’s the list [\"[PAD]\", \"[UNK]\", \"[CLS]\", \"[SEP]\", \"[MASK]\"]:"
      ]
    },
    {
      "cell_type": "code",
      "execution_count": 26,
      "id": "7fef7749",
      "metadata": {
        "colab": {
          "base_uri": "https://localhost:8080/"
        },
        "id": "7fef7749",
        "outputId": "5656e7f9-725b-498a-d43e-82a5a25a2575"
      },
      "outputs": [
        {
          "output_type": "execute_result",
          "data": {
            "text/plain": [
              "['[PAD]',\n",
              " '[UNK]',\n",
              " '[CLS]',\n",
              " '[SEP]',\n",
              " '[MASK]',\n",
              " '##a',\n",
              " '##b',\n",
              " '##c',\n",
              " '##d',\n",
              " '##e',\n",
              " '##g',\n",
              " '##h',\n",
              " '##i',\n",
              " '##k',\n",
              " '##l',\n",
              " '##n',\n",
              " '##o',\n",
              " '##p',\n",
              " '##r',\n",
              " '##s',\n",
              " '##t',\n",
              " '##u',\n",
              " '##w',\n",
              " '##x',\n",
              " '##z',\n",
              " ',',\n",
              " '.',\n",
              " 'H',\n",
              " 'L',\n",
              " 'N',\n",
              " 'P',\n",
              " 'T',\n",
              " 'W',\n",
              " 'a',\n",
              " 'b',\n",
              " 'c',\n",
              " 'e',\n",
              " 'g',\n",
              " 'h',\n",
              " 'i',\n",
              " 'l',\n",
              " 't',\n",
              " 'u',\n",
              " 'w']"
            ]
          },
          "metadata": {},
          "execution_count": 26
        }
      ],
      "source": [
        "vocab = [\"[PAD]\", \"[UNK]\", \"[CLS]\", \"[SEP]\", \"[MASK]\"] + alphabet.copy()\n",
        "\n",
        "vocab"
      ]
    },
    {
      "cell_type": "markdown",
      "id": "74549ac7",
      "metadata": {
        "id": "74549ac7"
      },
      "source": [
        "Next we need to split each word, with all the letters that are not the first prefixed by ##:"
      ]
    },
    {
      "cell_type": "code",
      "execution_count": 27,
      "id": "6d7fc492",
      "metadata": {
        "colab": {
          "base_uri": "https://localhost:8080/"
        },
        "id": "6d7fc492",
        "outputId": "291068e7-84f0-4433-d2fd-70bb5312c753"
      },
      "outputs": [
        {
          "output_type": "execute_result",
          "data": {
            "text/plain": [
              "{'This': ['T', '##h', '##i', '##s'],\n",
              " 'is': ['i', '##s'],\n",
              " 'a': ['a'],\n",
              " 'Natural': ['N', '##a', '##t', '##u', '##r', '##a', '##l'],\n",
              " 'Language': ['L', '##a', '##n', '##g', '##u', '##a', '##g', '##e'],\n",
              " 'Processing': ['P',\n",
              "  '##r',\n",
              "  '##o',\n",
              "  '##c',\n",
              "  '##e',\n",
              "  '##s',\n",
              "  '##s',\n",
              "  '##i',\n",
              "  '##n',\n",
              "  '##g'],\n",
              " 'course': ['c', '##o', '##u', '##r', '##s', '##e'],\n",
              " '.': ['.'],\n",
              " 'We': ['W', '##e'],\n",
              " 'will': ['w', '##i', '##l', '##l'],\n",
              " 'learn': ['l', '##e', '##a', '##r', '##n'],\n",
              " 'about': ['a', '##b', '##o', '##u', '##t'],\n",
              " 'tokenization': ['t',\n",
              "  '##o',\n",
              "  '##k',\n",
              "  '##e',\n",
              "  '##n',\n",
              "  '##i',\n",
              "  '##z',\n",
              "  '##a',\n",
              "  '##t',\n",
              "  '##i',\n",
              "  '##o',\n",
              "  '##n'],\n",
              " 'Here': ['H', '##e', '##r', '##e'],\n",
              " ',': [','],\n",
              " 'we': ['w', '##e'],\n",
              " 'explore': ['e', '##x', '##p', '##l', '##o', '##r', '##e'],\n",
              " 'Wordpiece': ['W', '##o', '##r', '##d', '##p', '##i', '##e', '##c', '##e'],\n",
              " 'tokenizers': ['t',\n",
              "  '##o',\n",
              "  '##k',\n",
              "  '##e',\n",
              "  '##n',\n",
              "  '##i',\n",
              "  '##z',\n",
              "  '##e',\n",
              "  '##r',\n",
              "  '##s'],\n",
              " 'be': ['b', '##e'],\n",
              " 'able': ['a', '##b', '##l', '##e'],\n",
              " 'to': ['t', '##o'],\n",
              " 'understand': ['u',\n",
              "  '##n',\n",
              "  '##d',\n",
              "  '##e',\n",
              "  '##r',\n",
              "  '##s',\n",
              "  '##t',\n",
              "  '##a',\n",
              "  '##n',\n",
              "  '##d'],\n",
              " 'how': ['h', '##o', '##w'],\n",
              " 'are': ['a', '##r', '##e'],\n",
              " 'trained': ['t', '##r', '##a', '##i', '##n', '##e', '##d'],\n",
              " 'and': ['a', '##n', '##d'],\n",
              " 'tokens': ['t', '##o', '##k', '##e', '##n', '##s'],\n",
              " 'generated': ['g', '##e', '##n', '##e', '##r', '##a', '##t', '##e', '##d']}"
            ]
          },
          "metadata": {},
          "execution_count": 27
        }
      ],
      "source": [
        "splits = {\n",
        "    word: [c if i == 0 else f\"##{c}\" for i, c in enumerate(word)]\n",
        "    for word in word_freqs.keys()\n",
        "}\n",
        "\n",
        "splits"
      ]
    },
    {
      "cell_type": "markdown",
      "id": "bbe38bec",
      "metadata": {
        "id": "bbe38bec"
      },
      "source": [
        "Now that we are ready for training, let’s write a function that computes the score of each pair. We’ll need to use this at each step of the training"
      ]
    },
    {
      "cell_type": "code",
      "execution_count": 28,
      "id": "61bceedf",
      "metadata": {
        "id": "61bceedf"
      },
      "outputs": [],
      "source": [
        "def compute_pair_scores(splits):\n",
        "    letter_freqs = defaultdict(int)\n",
        "    pair_freqs = defaultdict(int)\n",
        "\n",
        "    for word, freq in word_freqs.items():\n",
        "        split = splits[word]\n",
        "\n",
        "        # Single letter word e.g. \"a\", \"I\"\n",
        "        if len(split) == 1:\n",
        "            letter_freqs[split[0]] += freq\n",
        "            continue\n",
        "\n",
        "        # Iterate till the second-to-last split\n",
        "        for i in range(len(split) - 1):\n",
        "            pair = (split[i], split[i + 1])\n",
        "\n",
        "            letter_freqs[split[i]] += freq\n",
        "            pair_freqs[pair] += freq\n",
        "\n",
        "        # Add the last split to letter frequencies\n",
        "        letter_freqs[split[-1]] += freq\n",
        "\n",
        "    scores = {\n",
        "        pair: freq / (letter_freqs[pair[0]] * letter_freqs[pair[1]])\n",
        "        for pair, freq in pair_freqs.items()\n",
        "    }\n",
        "    return scores"
      ]
    },
    {
      "cell_type": "markdown",
      "id": "92ff2680",
      "metadata": {
        "id": "92ff2680"
      },
      "source": [
        "Viweing a part of this dictionary after the initial splits. For the pair ('##i', '##s')=1/"
      ]
    },
    {
      "cell_type": "code",
      "execution_count": 29,
      "id": "bc011818",
      "metadata": {
        "colab": {
          "base_uri": "https://localhost:8080/"
        },
        "id": "bc011818",
        "outputId": "1748cbf9-8e66-4aa4-8b70-b9399c08a4f7"
      },
      "outputs": [
        {
          "output_type": "execute_result",
          "data": {
            "text/plain": [
              "{('T', '##h'): 1.0,\n",
              " ('##h', '##i'): 0.09090909090909091,\n",
              " ('##i', '##s'): 0.010101010101010102,\n",
              " ('i', '##s'): 0.1111111111111111,\n",
              " ('N', '##a'): 0.1111111111111111,\n",
              " ('##a', '##t'): 0.06666666666666667,\n",
              " ('##t', '##u'): 0.05,\n",
              " ('##u', '##r'): 0.03571428571428571,\n",
              " ('##r', '##a'): 0.023809523809523808,\n",
              " ('##a', '##l'): 0.012345679012345678,\n",
              " ('L', '##a'): 0.1111111111111111,\n",
              " ('##a', '##n'): 0.017094017094017096,\n",
              " ('##n', '##g'): 0.05128205128205128,\n",
              " ('##g', '##u'): 0.08333333333333333,\n",
              " ('##u', '##a'): 0.027777777777777776,\n",
              " ('##a', '##g'): 0.037037037037037035,\n",
              " ('##g', '##e'): 0.012345679012345678,\n",
              " ('P', '##r'): 0.07142857142857142,\n",
              " ('##r', '##o'): 0.005952380952380952,\n",
              " ('##o', '##c'): 0.041666666666666664,\n",
              " ('##c', '##e'): 0.037037037037037035,\n",
              " ('##e', '##s'): 0.00411522633744856,\n",
              " ('##s', '##s'): 0.012345679012345678,\n",
              " ('##s', '##i'): 0.010101010101010102,\n",
              " ('##i', '##n'): 0.013986013986013986,\n",
              " ('c', '##o'): 0.08333333333333333,\n",
              " ('##o', '##u'): 0.041666666666666664,\n",
              " ('##r', '##s'): 0.031746031746031744,\n",
              " ('##s', '##e'): 0.00411522633744856,\n",
              " ('W', '##e'): 0.024691358024691357,\n",
              " ('w', '##i'): 0.06818181818181818,\n",
              " ('##i', '##l'): 0.030303030303030304,\n",
              " ('##l', '##l'): 0.037037037037037035,\n",
              " ('l', '##e'): 0.037037037037037035,\n",
              " ('##e', '##a'): 0.00411522633744856,\n",
              " ('##a', '##r'): 0.007936507936507936,\n",
              " ('##r', '##n'): 0.005494505494505495,\n",
              " ('a', '##b'): 0.16666666666666666,\n",
              " ('##b', '##o'): 0.041666666666666664,\n",
              " ('##u', '##t'): 0.05,\n",
              " ('t', '##o'): 0.06944444444444445,\n",
              " ('##o', '##k'): 0.08333333333333333,\n",
              " ('##k', '##e'): 0.037037037037037035,\n",
              " ('##e', '##n'): 0.014245014245014245,\n",
              " ('##n', '##i'): 0.02097902097902098,\n",
              " ('##i', '##z'): 0.09090909090909091,\n",
              " ('##z', '##a'): 0.037037037037037035,\n",
              " ('##t', '##i'): 0.01818181818181818,\n",
              " ('##i', '##o'): 0.007575757575757576,\n",
              " ('##o', '##n'): 0.00641025641025641,\n",
              " ('H', '##e'): 0.037037037037037035,\n",
              " ('##e', '##r'): 0.013227513227513227,\n",
              " ('##r', '##e'): 0.010582010582010581,\n",
              " ('w', '##e'): 0.009259259259259259,\n",
              " ('e', '##x'): 1.0,\n",
              " ('##x', '##p'): 0.5,\n",
              " ('##p', '##l'): 0.05555555555555555,\n",
              " ('##l', '##o'): 0.009259259259259259,\n",
              " ('##o', '##r'): 0.011904761904761904,\n",
              " ('W', '##o'): 0.027777777777777776,\n",
              " ('##r', '##d'): 0.011904761904761904,\n",
              " ('##d', '##p'): 0.08333333333333333,\n",
              " ('##p', '##i'): 0.045454545454545456,\n",
              " ('##i', '##e'): 0.003367003367003367,\n",
              " ('##e', '##c'): 0.018518518518518517,\n",
              " ('##z', '##e'): 0.024691358024691357,\n",
              " ('b', '##e'): 0.037037037037037035,\n",
              " ('##b', '##l'): 0.05555555555555555,\n",
              " ('##l', '##e'): 0.00411522633744856,\n",
              " ('u', '##n'): 0.07692307692307693,\n",
              " ('##n', '##d'): 0.038461538461538464,\n",
              " ('##d', '##e'): 0.006172839506172839,\n",
              " ('##s', '##t'): 0.022222222222222223,\n",
              " ('##t', '##a'): 0.022222222222222223,\n",
              " ('h', '##o'): 0.08333333333333333,\n",
              " ('##o', '##w'): 0.08333333333333333,\n",
              " ('a', '##r'): 0.023809523809523808,\n",
              " ('t', '##r'): 0.011904761904761904,\n",
              " ('##a', '##i'): 0.010101010101010102,\n",
              " ('##n', '##e'): 0.005698005698005698,\n",
              " ('##e', '##d'): 0.012345679012345678,\n",
              " ('a', '##n'): 0.01282051282051282,\n",
              " ('##n', '##s'): 0.008547008547008548,\n",
              " ('g', '##e'): 0.037037037037037035,\n",
              " ('##t', '##e'): 0.007407407407407408}"
            ]
          },
          "metadata": {},
          "execution_count": 29
        }
      ],
      "source": [
        "pair_scores = compute_pair_scores(splits)\n",
        "\n",
        "pair_scores"
      ]
    },
    {
      "cell_type": "markdown",
      "id": "8e989749",
      "metadata": {
        "id": "8e989749"
      },
      "source": [
        "Now, finding the pair with the best score only takes a quick loop"
      ]
    },
    {
      "cell_type": "code",
      "execution_count": 30,
      "id": "e7d3a892",
      "metadata": {
        "colab": {
          "base_uri": "https://localhost:8080/"
        },
        "id": "e7d3a892",
        "outputId": "23cc2e3c-da82-4f52-9d1b-c79a33b3bcc8"
      },
      "outputs": [
        {
          "output_type": "stream",
          "name": "stdout",
          "text": [
            "('T', '##h') 1.0\n"
          ]
        }
      ],
      "source": [
        "best_pair = \"\"\n",
        "max_score = None\n",
        "\n",
        "for pair, score in pair_scores.items():\n",
        "    if max_score is None or max_score < score:\n",
        "        best_pair = pair\n",
        "        max_score = score\n",
        "\n",
        "print(best_pair, max_score)"
      ]
    },
    {
      "cell_type": "markdown",
      "id": "7237a1bd",
      "metadata": {
        "id": "7237a1bd"
      },
      "source": [
        "So the first merge to learn is ('T', '##h') -> 'Th', and we add 'Th' to the vocabulary:"
      ]
    },
    {
      "cell_type": "code",
      "execution_count": 31,
      "id": "6b9ddc1c",
      "metadata": {
        "colab": {
          "base_uri": "https://localhost:8080/"
        },
        "id": "6b9ddc1c",
        "outputId": "637c84e3-ef0b-44a0-fc2a-5be5a1896b51"
      },
      "outputs": [
        {
          "output_type": "execute_result",
          "data": {
            "text/plain": [
              "['[PAD]',\n",
              " '[UNK]',\n",
              " '[CLS]',\n",
              " '[SEP]',\n",
              " '[MASK]',\n",
              " '##a',\n",
              " '##b',\n",
              " '##c',\n",
              " '##d',\n",
              " '##e',\n",
              " '##g',\n",
              " '##h',\n",
              " '##i',\n",
              " '##k',\n",
              " '##l',\n",
              " '##n',\n",
              " '##o',\n",
              " '##p',\n",
              " '##r',\n",
              " '##s',\n",
              " '##t',\n",
              " '##u',\n",
              " '##w',\n",
              " '##x',\n",
              " '##z',\n",
              " ',',\n",
              " '.',\n",
              " 'H',\n",
              " 'L',\n",
              " 'N',\n",
              " 'P',\n",
              " 'T',\n",
              " 'W',\n",
              " 'a',\n",
              " 'b',\n",
              " 'c',\n",
              " 'e',\n",
              " 'g',\n",
              " 'h',\n",
              " 'i',\n",
              " 'l',\n",
              " 't',\n",
              " 'u',\n",
              " 'w',\n",
              " 'Th']"
            ]
          },
          "metadata": {},
          "execution_count": 31
        }
      ],
      "source": [
        "vocab.append(\"Th\")\n",
        "\n",
        "vocab"
      ]
    },
    {
      "cell_type": "markdown",
      "id": "05fafa50",
      "metadata": {
        "id": "05fafa50"
      },
      "source": [
        "We need to apply that merge in our splits dictionary. Defining function for merging pairs"
      ]
    },
    {
      "cell_type": "code",
      "execution_count": 32,
      "id": "2fa43e32",
      "metadata": {
        "id": "2fa43e32"
      },
      "outputs": [],
      "source": [
        "def merge_pair(a, b, splits):\n",
        "    for word in word_freqs:\n",
        "        split = splits[word]\n",
        "\n",
        "        # Single letter word e.g. \"a\", \"I\", \".\"\n",
        "        if len(split) == 1:\n",
        "            continue\n",
        "\n",
        "        i = 0\n",
        "\n",
        "        while i < len(split) - 1:\n",
        "\n",
        "            if split[i] == a and split[i + 1] == b:\n",
        "                # Merge the terms\n",
        "                merge = a + b[2:] if b.startswith(\"##\") else a + b\n",
        "\n",
        "                # Remove the original terms and include the merged term\n",
        "                split = split[:i] + [merge] + split[i + 2 :]\n",
        "            else:\n",
        "                i += 1\n",
        "\n",
        "        splits[word] = split\n",
        "\n",
        "    return splits"
      ]
    },
    {
      "cell_type": "code",
      "execution_count": 33,
      "id": "4bf8bed0",
      "metadata": {
        "colab": {
          "base_uri": "https://localhost:8080/"
        },
        "id": "4bf8bed0",
        "outputId": "c1e981c7-aabd-46f1-a85e-0ea3a6253318"
      },
      "outputs": [
        {
          "output_type": "execute_result",
          "data": {
            "text/plain": [
              "['Th', '##i', '##s']"
            ]
          },
          "metadata": {},
          "execution_count": 33
        }
      ],
      "source": [
        "splits = merge_pair(\"T\", \"##h\", splits)\n",
        "\n",
        "splits[\"This\"]"
      ]
    },
    {
      "cell_type": "code",
      "source": [
        "splits = merge_pair(\"t\", \"##o\", splits)\n",
        "\n",
        "splits[\"tokens\"]"
      ],
      "metadata": {
        "colab": {
          "base_uri": "https://localhost:8080/"
        },
        "id": "EjSwElS51irc",
        "outputId": "b294ca78-1434-480d-8e4a-637f65839e08"
      },
      "id": "EjSwElS51irc",
      "execution_count": 34,
      "outputs": [
        {
          "output_type": "execute_result",
          "data": {
            "text/plain": [
              "['to', '##k', '##e', '##n', '##s']"
            ]
          },
          "metadata": {},
          "execution_count": 34
        }
      ]
    },
    {
      "cell_type": "code",
      "source": [
        "splits[\"tokenizers\"]"
      ],
      "metadata": {
        "colab": {
          "base_uri": "https://localhost:8080/"
        },
        "id": "OC-91Oic1656",
        "outputId": "9453cd50-4385-40b9-90a2-3f34a603ac67"
      },
      "id": "OC-91Oic1656",
      "execution_count": 35,
      "outputs": [
        {
          "output_type": "execute_result",
          "data": {
            "text/plain": [
              "['to', '##k', '##e', '##n', '##i', '##z', '##e', '##r', '##s']"
            ]
          },
          "metadata": {},
          "execution_count": 35
        }
      ]
    },
    {
      "cell_type": "markdown",
      "id": "dab87de4",
      "metadata": {
        "id": "dab87de4"
      },
      "source": [
        "Now we have everything we need to loop until we have learned all the merges we want.We are taking a vocab size of 120"
      ]
    },
    {
      "cell_type": "code",
      "execution_count": 36,
      "id": "6142cfe0",
      "metadata": {
        "id": "6142cfe0"
      },
      "outputs": [],
      "source": [
        "vocab_size = 120\n",
        "\n",
        "while len(vocab) < vocab_size:\n",
        "\n",
        "    scores = compute_pair_scores(splits)\n",
        "\n",
        "    best_pair, max_score = \"\", None\n",
        "    for pair, score in scores.items():\n",
        "        if max_score is None or max_score < score:\n",
        "            best_pair = pair\n",
        "            max_score = score\n",
        "\n",
        "    splits = merge_pair(*best_pair, splits)\n",
        "\n",
        "    new_token = (\n",
        "        best_pair[0] + best_pair[1][2:] if best_pair[1].startswith(\"##\")\n",
        "          else best_pair[0] + best_pair[1]\n",
        "    )\n",
        "\n",
        "    vocab.append(new_token)"
      ]
    },
    {
      "cell_type": "code",
      "execution_count": 37,
      "id": "15e712f5",
      "metadata": {
        "colab": {
          "base_uri": "https://localhost:8080/"
        },
        "id": "15e712f5",
        "outputId": "dcae4f1b-019e-495d-b53f-8e3d29900ec0"
      },
      "outputs": [
        {
          "output_type": "execute_result",
          "data": {
            "text/plain": [
              "['[PAD]',\n",
              " '[UNK]',\n",
              " '[CLS]',\n",
              " '[SEP]',\n",
              " '[MASK]',\n",
              " '##a',\n",
              " '##b',\n",
              " '##c',\n",
              " '##d',\n",
              " '##e',\n",
              " '##g',\n",
              " '##h',\n",
              " '##i',\n",
              " '##k',\n",
              " '##l',\n",
              " '##n',\n",
              " '##o',\n",
              " '##p',\n",
              " '##r',\n",
              " '##s',\n",
              " '##t',\n",
              " '##u',\n",
              " '##w',\n",
              " '##x',\n",
              " '##z',\n",
              " ',',\n",
              " '.',\n",
              " 'H',\n",
              " 'L',\n",
              " 'N',\n",
              " 'P',\n",
              " 'T',\n",
              " 'W',\n",
              " 'a',\n",
              " 'b',\n",
              " 'c',\n",
              " 'e',\n",
              " 'g',\n",
              " 'h',\n",
              " 'i',\n",
              " 'l',\n",
              " 't',\n",
              " 'u',\n",
              " 'w',\n",
              " 'Th',\n",
              " 'ex',\n",
              " 'exp',\n",
              " 'tok',\n",
              " 'ab',\n",
              " '##dp',\n",
              " 'co',\n",
              " 'cou',\n",
              " 'ho',\n",
              " 'how',\n",
              " 'is',\n",
              " 'Na',\n",
              " 'Nat',\n",
              " 'Natu',\n",
              " '##gu',\n",
              " '##ut',\n",
              " '##out',\n",
              " 'about',\n",
              " 'La',\n",
              " '##gua',\n",
              " '##guag',\n",
              " '##oc',\n",
              " '##at',\n",
              " '##ta',\n",
              " '##zat',\n",
              " '##sta',\n",
              " 'expl',\n",
              " 'explo',\n",
              " 'Wo',\n",
              " 'abl',\n",
              " 'Thi',\n",
              " 'This',\n",
              " '##izat',\n",
              " '##izati',\n",
              " '##izatio',\n",
              " '##dpi',\n",
              " '##iz',\n",
              " 'wi',\n",
              " '##ai',\n",
              " '##si',\n",
              " '##ssi',\n",
              " 'wil',\n",
              " 'will',\n",
              " '##al',\n",
              " 'Lan',\n",
              " 'Languag',\n",
              " '##ssin',\n",
              " '##ssing',\n",
              " '##nizatio',\n",
              " '##nization',\n",
              " '##niz',\n",
              " 'un',\n",
              " 'und',\n",
              " '##stan',\n",
              " '##stand',\n",
              " '##ain',\n",
              " '##nd',\n",
              " 'and',\n",
              " '##ns',\n",
              " 'Natur',\n",
              " 'Natural',\n",
              " 'Pr',\n",
              " 'Proc',\n",
              " 'cour',\n",
              " 'cours',\n",
              " '##ar',\n",
              " '##arn',\n",
              " 'explor',\n",
              " 'Wor',\n",
              " 'Wordpi',\n",
              " '##rs',\n",
              " '##rstand',\n",
              " 'tr',\n",
              " 'train',\n",
              " '##rat',\n",
              " 'ar']"
            ]
          },
          "metadata": {},
          "execution_count": 37
        }
      ],
      "source": [
        "vocab"
      ]
    },
    {
      "cell_type": "code",
      "execution_count": 38,
      "id": "fe5d78dd",
      "metadata": {
        "id": "fe5d78dd"
      },
      "outputs": [],
      "source": [
        "def encode_word(word):\n",
        "    tokens = []\n",
        "\n",
        "    while len(word) > 0:\n",
        "        i = len(word)\n",
        "\n",
        "        # Find the longest part of the word in the vocabulary\n",
        "        # starting with the complete word\n",
        "        while i > 0 and word[:i] not in vocab:\n",
        "            i -= 1\n",
        "\n",
        "        # If no individual character is in the vocabulary\n",
        "        # return the unknown token\n",
        "        if i == 0:\n",
        "            return [\"[UNK]\"]\n",
        "\n",
        "        # Append the word part to tokens, and consider rest of the\n",
        "        # word part\n",
        "        tokens.append(word[:i])\n",
        "        word = word[i:]\n",
        "\n",
        "        if len(word) > 0:\n",
        "            word = f\"##{word}\"\n",
        "\n",
        "    return tokens"
      ]
    },
    {
      "cell_type": "code",
      "execution_count": 39,
      "id": "92a5ee73",
      "metadata": {
        "colab": {
          "base_uri": "https://localhost:8080/"
        },
        "id": "92a5ee73",
        "outputId": "49d7344a-c1e2-4d24-dd23-a75984677959"
      },
      "outputs": [
        {
          "output_type": "stream",
          "name": "stdout",
          "text": [
            "['Natural']\n",
            "['N', '##o', '##ta', '##r', '##al']\n"
          ]
        }
      ],
      "source": [
        "print(encode_word(\"Natural\"))\n",
        "print(encode_word(\"Notaral\"))"
      ]
    },
    {
      "cell_type": "code",
      "source": [
        "print(encode_word(\"tokenizing\"))"
      ],
      "metadata": {
        "colab": {
          "base_uri": "https://localhost:8080/"
        },
        "id": "uLrFfYCW5Vn5",
        "outputId": "1b881762-2e84-4de9-853a-1ee748cd2a54"
      },
      "id": "uLrFfYCW5Vn5",
      "execution_count": 40,
      "outputs": [
        {
          "output_type": "stream",
          "name": "stdout",
          "text": [
            "['tok', '##e', '##niz', '##i', '##n', '##g']\n"
          ]
        }
      ]
    },
    {
      "cell_type": "code",
      "source": [
        "print(encode_word(\"exploring\"))"
      ],
      "metadata": {
        "colab": {
          "base_uri": "https://localhost:8080/"
        },
        "id": "6z0591v05Vqk",
        "outputId": "1c0c38d5-f735-48ab-8f44-20f0c20b57dd"
      },
      "id": "6z0591v05Vqk",
      "execution_count": 42,
      "outputs": [
        {
          "output_type": "stream",
          "name": "stdout",
          "text": [
            "['explor', '##i', '##n', '##g']\n"
          ]
        }
      ]
    },
    {
      "cell_type": "code",
      "source": [
        "print(encode_word(\"Label\"))"
      ],
      "metadata": {
        "colab": {
          "base_uri": "https://localhost:8080/"
        },
        "id": "AK-Qyq3t5qZU",
        "outputId": "cd530a92-e5a5-47b1-bdce-912795bfb064"
      },
      "id": "AK-Qyq3t5qZU",
      "execution_count": 43,
      "outputs": [
        {
          "output_type": "stream",
          "name": "stdout",
          "text": [
            "['La', '##b', '##e', '##l']\n"
          ]
        }
      ]
    },
    {
      "cell_type": "markdown",
      "id": "4ae7393b",
      "metadata": {
        "id": "4ae7393b"
      },
      "source": [
        "Tokenization functionis defined and a sentence is tokenized"
      ]
    },
    {
      "cell_type": "code",
      "execution_count": 44,
      "id": "f1da7cff",
      "metadata": {
        "id": "f1da7cff"
      },
      "outputs": [],
      "source": [
        "def tokenize(text):\n",
        "    pre_tokenize_result = tokenizer._tokenizer.pre_tokenizer.pre_tokenize_str(text)\n",
        "\n",
        "    pre_tokenized_text = [word for word, offset in pre_tokenize_result]\n",
        "\n",
        "    encoded_words = [encode_word(word) for word in pre_tokenized_text]\n",
        "\n",
        "    return sum(encoded_words, [])"
      ]
    },
    {
      "cell_type": "code",
      "execution_count": 46,
      "id": "5e927be6",
      "metadata": {
        "colab": {
          "base_uri": "https://localhost:8080/"
        },
        "id": "5e927be6",
        "outputId": "14db4c7d-6444-4622-aa9c-99a64f15385f"
      },
      "outputs": [
        {
          "output_type": "execute_result",
          "data": {
            "text/plain": [
              "['tok',\n",
              " '##e',\n",
              " '##niz',\n",
              " '##i',\n",
              " '##n',\n",
              " '##g',\n",
              " 'l',\n",
              " '##a',\n",
              " '##n',\n",
              " '##guag',\n",
              " '##e',\n",
              " 'is',\n",
              " '[UNK]']"
            ]
          },
          "metadata": {},
          "execution_count": 46
        }
      ],
      "source": [
        "tokenize(\"tokenizing language is fun\")"
      ]
    },
    {
      "cell_type": "markdown",
      "id": "f60d7c51",
      "metadata": {
        "id": "f60d7c51"
      },
      "source": [
        "Subword tokenization algorithms rely on the principle that frequently used words should not be split into smaller subwords, but rare words should be decomposed into meaningful subwords. For instance \"annoyingly\" might be considered a rare word and could be decomposed into \"annoying\" and \"ly\". Both \"annoying\" and \"ly\" as stand-alone subwords would appear more frequently while at the same time the meaning of \"annoyingly\" is kept by the composite meaning of \"annoying\" and \"ly\". This is especially useful in agglutinative languages such as Turkish, where you can form (almost) arbitrarily long complex words by stringing together subwords.\n",
        "\n",
        "Subword tokenization allows the model to have a reasonable vocabulary size while being able to learn meaningful context-independent representations. In addition, subword tokenization enables the model to process words it has never seen before, by decomposing them into known subwords. For instance, the BertTokenizer tokenizes \"I have a new SAMSUNG GLITE\" as follows:\n",
        "\n",
        "In case of uncased model, the sentence was lowercased first.."
      ]
    },
    {
      "cell_type": "markdown",
      "id": "9e687c08",
      "metadata": {
        "id": "9e687c08"
      },
      "source": [
        "We are loading pretrained BertTokenizer and tokenizing text"
      ]
    },
    {
      "cell_type": "code",
      "execution_count": 47,
      "id": "52c877b3",
      "metadata": {
        "colab": {
          "base_uri": "https://localhost:8080/",
          "height": 162,
          "referenced_widgets": [
            "81f90f5dbaa745b9810ca681f5912657",
            "89a9b9f6ff7a49789eef4ddbd31073e9",
            "126d1551053e41ba9daada3b040bde91",
            "e9103155b95d453199057878364f7826",
            "db12276aa10a4d5d94d3a963d62d05a6",
            "887d1f839669411a8ad2fb30f747af9b",
            "7ab7909828034b41af97c187772c7f7f",
            "d35e6f4070234b5b84c1a9f281caef76",
            "60689dd1c4af4448af8ae02760c4b428",
            "d53601ba1e2c4828bb576a017d26334b",
            "f47b0340a3de45a5bd582c2ac2f5c20e",
            "f3db5ffae1144bc5bea0e0db0dd29eb7",
            "08baf286d6f74722b69c3627a758eb9f",
            "ffcfb93097c142d39c4f799b5c51538c",
            "314b70f6f8a04510ba1370aab8ac8fe7",
            "c133c7b2875b42ccbff3af2b24064fca",
            "94562a3b111d4fa3b3a430e8e35d339b",
            "debc1914f408401e95f60409bf2925d0",
            "44175b2f11e544a4bcf03b8b778db53a",
            "19a9ebdc6c1d4f0290fa50906ac2fbe1",
            "f82f524e9c964820abecf92f363fa70c",
            "12d535d544214283b73433482f4236af",
            "b14c96a25683453ba47afeee784bdc64",
            "d7bfa45d9ec94cec9200f5a85b28166f",
            "897220fa9b4847c4b881c4d38ee7fcc8",
            "40ab2cc382094504b7e7f019e9dcac16",
            "0418e4bea8874aaf8ebc19ff0a91523c",
            "0c60cbb6a42e45278e4f938f3d129a8e",
            "1a21cbd42bcf40b9bef5c9fac17c7f6f",
            "cb9db25d5fb84e829ebab95096f6d00d",
            "eba95f9cd8ec46a19a725efd6421a516",
            "6c418b55434f4da9afb83bb3a0adcd00",
            "97ab32ccfc9a47378f06cb59242b5c32",
            "5521b360ae86434e8113e075a097c0a6",
            "a45fc9c442644926be8f454dc11aec51",
            "7d7a4cb490db4bf49332781863545a3a",
            "d4f7795e48734619ae27b51de42d280b",
            "05a5fbd81d864266bf9f77782e3acc76",
            "812af5c874f74711b84c742e41b70e6d",
            "3f69e51d43944f999b8da76af8c19ee0",
            "8deb0793f5d94186aed87bb7c8c6b519",
            "7ca5b217cb6740afbadc6333345b36d6",
            "d701e935c2e44bea8c8a2c0c908ca554",
            "8c0d4865b8a1473f8b3511ab9ce5dc36"
          ]
        },
        "id": "52c877b3",
        "outputId": "cfcb8312-9d6e-4bb1-ce77-72da6a9519d8"
      },
      "outputs": [
        {
          "output_type": "display_data",
          "data": {
            "text/plain": [
              "tokenizer_config.json:   0%|          | 0.00/28.0 [00:00<?, ?B/s]"
            ],
            "application/vnd.jupyter.widget-view+json": {
              "version_major": 2,
              "version_minor": 0,
              "model_id": "81f90f5dbaa745b9810ca681f5912657"
            }
          },
          "metadata": {}
        },
        {
          "output_type": "display_data",
          "data": {
            "text/plain": [
              "vocab.txt:   0%|          | 0.00/232k [00:00<?, ?B/s]"
            ],
            "application/vnd.jupyter.widget-view+json": {
              "version_major": 2,
              "version_minor": 0,
              "model_id": "f3db5ffae1144bc5bea0e0db0dd29eb7"
            }
          },
          "metadata": {}
        },
        {
          "output_type": "display_data",
          "data": {
            "text/plain": [
              "tokenizer.json:   0%|          | 0.00/466k [00:00<?, ?B/s]"
            ],
            "application/vnd.jupyter.widget-view+json": {
              "version_major": 2,
              "version_minor": 0,
              "model_id": "b14c96a25683453ba47afeee784bdc64"
            }
          },
          "metadata": {}
        },
        {
          "output_type": "display_data",
          "data": {
            "text/plain": [
              "config.json:   0%|          | 0.00/570 [00:00<?, ?B/s]"
            ],
            "application/vnd.jupyter.widget-view+json": {
              "version_major": 2,
              "version_minor": 0,
              "model_id": "5521b360ae86434e8113e075a097c0a6"
            }
          },
          "metadata": {}
        },
        {
          "output_type": "execute_result",
          "data": {
            "text/plain": [
              "['token', '##izing', 'language', 'is', 'fun']"
            ]
          },
          "metadata": {},
          "execution_count": 47
        }
      ],
      "source": [
        "from transformers import BertTokenizer\n",
        "\n",
        "tokenizer = BertTokenizer.from_pretrained(\"bert-base-uncased\")\n",
        "\n",
        "tokenizer.tokenize(\"tokenizing language is fun\")"
      ]
    },
    {
      "cell_type": "code",
      "execution_count": null,
      "id": "4a8d7a08",
      "metadata": {
        "id": "4a8d7a08"
      },
      "outputs": [],
      "source": []
    },
    {
      "cell_type": "code",
      "execution_count": null,
      "id": "33a97955",
      "metadata": {
        "id": "33a97955"
      },
      "outputs": [],
      "source": []
    },
    {
      "cell_type": "code",
      "execution_count": null,
      "id": "3bc39c8d",
      "metadata": {
        "id": "3bc39c8d"
      },
      "outputs": [],
      "source": []
    },
    {
      "cell_type": "code",
      "execution_count": null,
      "id": "93aee911",
      "metadata": {
        "id": "93aee911"
      },
      "outputs": [],
      "source": []
    },
    {
      "cell_type": "code",
      "execution_count": null,
      "id": "c3bfc8dd",
      "metadata": {
        "id": "c3bfc8dd"
      },
      "outputs": [],
      "source": []
    },
    {
      "cell_type": "code",
      "execution_count": null,
      "id": "f242aadd",
      "metadata": {
        "id": "f242aadd"
      },
      "outputs": [],
      "source": []
    },
    {
      "cell_type": "code",
      "execution_count": null,
      "id": "30caee8d",
      "metadata": {
        "id": "30caee8d"
      },
      "outputs": [],
      "source": []
    },
    {
      "cell_type": "code",
      "execution_count": null,
      "id": "b52318d4",
      "metadata": {
        "id": "b52318d4"
      },
      "outputs": [],
      "source": []
    },
    {
      "cell_type": "code",
      "execution_count": null,
      "id": "38c274f2",
      "metadata": {
        "id": "38c274f2"
      },
      "outputs": [],
      "source": []
    },
    {
      "cell_type": "code",
      "execution_count": null,
      "id": "3ec0e6ca",
      "metadata": {
        "id": "3ec0e6ca"
      },
      "outputs": [],
      "source": []
    },
    {
      "cell_type": "code",
      "execution_count": null,
      "id": "c30a4685",
      "metadata": {
        "id": "c30a4685"
      },
      "outputs": [],
      "source": []
    }
  ],
  "metadata": {
    "kernelspec": {
      "display_name": "keras_venv",
      "language": "python",
      "name": "keras_venv"
    },
    "language_info": {
      "codemirror_mode": {
        "name": "ipython",
        "version": 3
      },
      "file_extension": ".py",
      "mimetype": "text/x-python",
      "name": "python",
      "nbconvert_exporter": "python",
      "pygments_lexer": "ipython3",
      "version": "3.10.9"
    },
    "colab": {
      "provenance": []
    },
    "widgets": {
      "application/vnd.jupyter.widget-state+json": {
        "c4f50d73c28043329ad368e400843721": {
          "model_module": "@jupyter-widgets/controls",
          "model_name": "HBoxModel",
          "model_module_version": "1.5.0",
          "state": {
            "_dom_classes": [],
            "_model_module": "@jupyter-widgets/controls",
            "_model_module_version": "1.5.0",
            "_model_name": "HBoxModel",
            "_view_count": null,
            "_view_module": "@jupyter-widgets/controls",
            "_view_module_version": "1.5.0",
            "_view_name": "HBoxView",
            "box_style": "",
            "children": [
              "IPY_MODEL_0b9461c5834b425ea26cac91c2ec8379",
              "IPY_MODEL_ab9998cc43824198bb6a8f405753e5ee",
              "IPY_MODEL_190389cc78954b5eb76bec58cf486d5f"
            ],
            "layout": "IPY_MODEL_c44b7d31c6e0484296e4c32cc5ae9d34"
          }
        },
        "0b9461c5834b425ea26cac91c2ec8379": {
          "model_module": "@jupyter-widgets/controls",
          "model_name": "HTMLModel",
          "model_module_version": "1.5.0",
          "state": {
            "_dom_classes": [],
            "_model_module": "@jupyter-widgets/controls",
            "_model_module_version": "1.5.0",
            "_model_name": "HTMLModel",
            "_view_count": null,
            "_view_module": "@jupyter-widgets/controls",
            "_view_module_version": "1.5.0",
            "_view_name": "HTMLView",
            "description": "",
            "description_tooltip": null,
            "layout": "IPY_MODEL_7d5f571c701a4899bff1cd27b21f1c72",
            "placeholder": "​",
            "style": "IPY_MODEL_771eb9890743414093dcd2c6b484a947",
            "value": "tokenizer_config.json: 100%"
          }
        },
        "ab9998cc43824198bb6a8f405753e5ee": {
          "model_module": "@jupyter-widgets/controls",
          "model_name": "FloatProgressModel",
          "model_module_version": "1.5.0",
          "state": {
            "_dom_classes": [],
            "_model_module": "@jupyter-widgets/controls",
            "_model_module_version": "1.5.0",
            "_model_name": "FloatProgressModel",
            "_view_count": null,
            "_view_module": "@jupyter-widgets/controls",
            "_view_module_version": "1.5.0",
            "_view_name": "ProgressView",
            "bar_style": "success",
            "description": "",
            "description_tooltip": null,
            "layout": "IPY_MODEL_6a68fd6782a741c39ee0db35f59c5930",
            "max": 29,
            "min": 0,
            "orientation": "horizontal",
            "style": "IPY_MODEL_364b88d511e74a5b845e467859dfb173",
            "value": 29
          }
        },
        "190389cc78954b5eb76bec58cf486d5f": {
          "model_module": "@jupyter-widgets/controls",
          "model_name": "HTMLModel",
          "model_module_version": "1.5.0",
          "state": {
            "_dom_classes": [],
            "_model_module": "@jupyter-widgets/controls",
            "_model_module_version": "1.5.0",
            "_model_name": "HTMLModel",
            "_view_count": null,
            "_view_module": "@jupyter-widgets/controls",
            "_view_module_version": "1.5.0",
            "_view_name": "HTMLView",
            "description": "",
            "description_tooltip": null,
            "layout": "IPY_MODEL_f96da6418bd8410c8588cc60fc01b842",
            "placeholder": "​",
            "style": "IPY_MODEL_9ab42621b00c4277a2a6b52984aee7a6",
            "value": " 29.0/29.0 [00:00&lt;00:00, 1.03kB/s]"
          }
        },
        "c44b7d31c6e0484296e4c32cc5ae9d34": {
          "model_module": "@jupyter-widgets/base",
          "model_name": "LayoutModel",
          "model_module_version": "1.2.0",
          "state": {
            "_model_module": "@jupyter-widgets/base",
            "_model_module_version": "1.2.0",
            "_model_name": "LayoutModel",
            "_view_count": null,
            "_view_module": "@jupyter-widgets/base",
            "_view_module_version": "1.2.0",
            "_view_name": "LayoutView",
            "align_content": null,
            "align_items": null,
            "align_self": null,
            "border": null,
            "bottom": null,
            "display": null,
            "flex": null,
            "flex_flow": null,
            "grid_area": null,
            "grid_auto_columns": null,
            "grid_auto_flow": null,
            "grid_auto_rows": null,
            "grid_column": null,
            "grid_gap": null,
            "grid_row": null,
            "grid_template_areas": null,
            "grid_template_columns": null,
            "grid_template_rows": null,
            "height": null,
            "justify_content": null,
            "justify_items": null,
            "left": null,
            "margin": null,
            "max_height": null,
            "max_width": null,
            "min_height": null,
            "min_width": null,
            "object_fit": null,
            "object_position": null,
            "order": null,
            "overflow": null,
            "overflow_x": null,
            "overflow_y": null,
            "padding": null,
            "right": null,
            "top": null,
            "visibility": null,
            "width": null
          }
        },
        "7d5f571c701a4899bff1cd27b21f1c72": {
          "model_module": "@jupyter-widgets/base",
          "model_name": "LayoutModel",
          "model_module_version": "1.2.0",
          "state": {
            "_model_module": "@jupyter-widgets/base",
            "_model_module_version": "1.2.0",
            "_model_name": "LayoutModel",
            "_view_count": null,
            "_view_module": "@jupyter-widgets/base",
            "_view_module_version": "1.2.0",
            "_view_name": "LayoutView",
            "align_content": null,
            "align_items": null,
            "align_self": null,
            "border": null,
            "bottom": null,
            "display": null,
            "flex": null,
            "flex_flow": null,
            "grid_area": null,
            "grid_auto_columns": null,
            "grid_auto_flow": null,
            "grid_auto_rows": null,
            "grid_column": null,
            "grid_gap": null,
            "grid_row": null,
            "grid_template_areas": null,
            "grid_template_columns": null,
            "grid_template_rows": null,
            "height": null,
            "justify_content": null,
            "justify_items": null,
            "left": null,
            "margin": null,
            "max_height": null,
            "max_width": null,
            "min_height": null,
            "min_width": null,
            "object_fit": null,
            "object_position": null,
            "order": null,
            "overflow": null,
            "overflow_x": null,
            "overflow_y": null,
            "padding": null,
            "right": null,
            "top": null,
            "visibility": null,
            "width": null
          }
        },
        "771eb9890743414093dcd2c6b484a947": {
          "model_module": "@jupyter-widgets/controls",
          "model_name": "DescriptionStyleModel",
          "model_module_version": "1.5.0",
          "state": {
            "_model_module": "@jupyter-widgets/controls",
            "_model_module_version": "1.5.0",
            "_model_name": "DescriptionStyleModel",
            "_view_count": null,
            "_view_module": "@jupyter-widgets/base",
            "_view_module_version": "1.2.0",
            "_view_name": "StyleView",
            "description_width": ""
          }
        },
        "6a68fd6782a741c39ee0db35f59c5930": {
          "model_module": "@jupyter-widgets/base",
          "model_name": "LayoutModel",
          "model_module_version": "1.2.0",
          "state": {
            "_model_module": "@jupyter-widgets/base",
            "_model_module_version": "1.2.0",
            "_model_name": "LayoutModel",
            "_view_count": null,
            "_view_module": "@jupyter-widgets/base",
            "_view_module_version": "1.2.0",
            "_view_name": "LayoutView",
            "align_content": null,
            "align_items": null,
            "align_self": null,
            "border": null,
            "bottom": null,
            "display": null,
            "flex": null,
            "flex_flow": null,
            "grid_area": null,
            "grid_auto_columns": null,
            "grid_auto_flow": null,
            "grid_auto_rows": null,
            "grid_column": null,
            "grid_gap": null,
            "grid_row": null,
            "grid_template_areas": null,
            "grid_template_columns": null,
            "grid_template_rows": null,
            "height": null,
            "justify_content": null,
            "justify_items": null,
            "left": null,
            "margin": null,
            "max_height": null,
            "max_width": null,
            "min_height": null,
            "min_width": null,
            "object_fit": null,
            "object_position": null,
            "order": null,
            "overflow": null,
            "overflow_x": null,
            "overflow_y": null,
            "padding": null,
            "right": null,
            "top": null,
            "visibility": null,
            "width": null
          }
        },
        "364b88d511e74a5b845e467859dfb173": {
          "model_module": "@jupyter-widgets/controls",
          "model_name": "ProgressStyleModel",
          "model_module_version": "1.5.0",
          "state": {
            "_model_module": "@jupyter-widgets/controls",
            "_model_module_version": "1.5.0",
            "_model_name": "ProgressStyleModel",
            "_view_count": null,
            "_view_module": "@jupyter-widgets/base",
            "_view_module_version": "1.2.0",
            "_view_name": "StyleView",
            "bar_color": null,
            "description_width": ""
          }
        },
        "f96da6418bd8410c8588cc60fc01b842": {
          "model_module": "@jupyter-widgets/base",
          "model_name": "LayoutModel",
          "model_module_version": "1.2.0",
          "state": {
            "_model_module": "@jupyter-widgets/base",
            "_model_module_version": "1.2.0",
            "_model_name": "LayoutModel",
            "_view_count": null,
            "_view_module": "@jupyter-widgets/base",
            "_view_module_version": "1.2.0",
            "_view_name": "LayoutView",
            "align_content": null,
            "align_items": null,
            "align_self": null,
            "border": null,
            "bottom": null,
            "display": null,
            "flex": null,
            "flex_flow": null,
            "grid_area": null,
            "grid_auto_columns": null,
            "grid_auto_flow": null,
            "grid_auto_rows": null,
            "grid_column": null,
            "grid_gap": null,
            "grid_row": null,
            "grid_template_areas": null,
            "grid_template_columns": null,
            "grid_template_rows": null,
            "height": null,
            "justify_content": null,
            "justify_items": null,
            "left": null,
            "margin": null,
            "max_height": null,
            "max_width": null,
            "min_height": null,
            "min_width": null,
            "object_fit": null,
            "object_position": null,
            "order": null,
            "overflow": null,
            "overflow_x": null,
            "overflow_y": null,
            "padding": null,
            "right": null,
            "top": null,
            "visibility": null,
            "width": null
          }
        },
        "9ab42621b00c4277a2a6b52984aee7a6": {
          "model_module": "@jupyter-widgets/controls",
          "model_name": "DescriptionStyleModel",
          "model_module_version": "1.5.0",
          "state": {
            "_model_module": "@jupyter-widgets/controls",
            "_model_module_version": "1.5.0",
            "_model_name": "DescriptionStyleModel",
            "_view_count": null,
            "_view_module": "@jupyter-widgets/base",
            "_view_module_version": "1.2.0",
            "_view_name": "StyleView",
            "description_width": ""
          }
        },
        "6cbb494f01c444c980219d0f2bb1f1ea": {
          "model_module": "@jupyter-widgets/controls",
          "model_name": "HBoxModel",
          "model_module_version": "1.5.0",
          "state": {
            "_dom_classes": [],
            "_model_module": "@jupyter-widgets/controls",
            "_model_module_version": "1.5.0",
            "_model_name": "HBoxModel",
            "_view_count": null,
            "_view_module": "@jupyter-widgets/controls",
            "_view_module_version": "1.5.0",
            "_view_name": "HBoxView",
            "box_style": "",
            "children": [
              "IPY_MODEL_a97853de55274d3b9da5cffb2c7cda37",
              "IPY_MODEL_670ba01a4faa43099a19df5e88f62337",
              "IPY_MODEL_0fe1a8c7ff5c42fb8abd35adcd6532d1"
            ],
            "layout": "IPY_MODEL_2a39dc43e20b436fb17577165623c16e"
          }
        },
        "a97853de55274d3b9da5cffb2c7cda37": {
          "model_module": "@jupyter-widgets/controls",
          "model_name": "HTMLModel",
          "model_module_version": "1.5.0",
          "state": {
            "_dom_classes": [],
            "_model_module": "@jupyter-widgets/controls",
            "_model_module_version": "1.5.0",
            "_model_name": "HTMLModel",
            "_view_count": null,
            "_view_module": "@jupyter-widgets/controls",
            "_view_module_version": "1.5.0",
            "_view_name": "HTMLView",
            "description": "",
            "description_tooltip": null,
            "layout": "IPY_MODEL_01c0803ebfa04f31a9688ff2abee3a4b",
            "placeholder": "​",
            "style": "IPY_MODEL_ebf81be572c54ee6b4381100d443d29a",
            "value": "config.json: 100%"
          }
        },
        "670ba01a4faa43099a19df5e88f62337": {
          "model_module": "@jupyter-widgets/controls",
          "model_name": "FloatProgressModel",
          "model_module_version": "1.5.0",
          "state": {
            "_dom_classes": [],
            "_model_module": "@jupyter-widgets/controls",
            "_model_module_version": "1.5.0",
            "_model_name": "FloatProgressModel",
            "_view_count": null,
            "_view_module": "@jupyter-widgets/controls",
            "_view_module_version": "1.5.0",
            "_view_name": "ProgressView",
            "bar_style": "success",
            "description": "",
            "description_tooltip": null,
            "layout": "IPY_MODEL_825a6af4aaaf4f0b9b2edcd09d689c83",
            "max": 570,
            "min": 0,
            "orientation": "horizontal",
            "style": "IPY_MODEL_d3e974ea0fc44d5a94cea6dd6ee65ddb",
            "value": 570
          }
        },
        "0fe1a8c7ff5c42fb8abd35adcd6532d1": {
          "model_module": "@jupyter-widgets/controls",
          "model_name": "HTMLModel",
          "model_module_version": "1.5.0",
          "state": {
            "_dom_classes": [],
            "_model_module": "@jupyter-widgets/controls",
            "_model_module_version": "1.5.0",
            "_model_name": "HTMLModel",
            "_view_count": null,
            "_view_module": "@jupyter-widgets/controls",
            "_view_module_version": "1.5.0",
            "_view_name": "HTMLView",
            "description": "",
            "description_tooltip": null,
            "layout": "IPY_MODEL_02d5cd2aff894642be101725fdd5622a",
            "placeholder": "​",
            "style": "IPY_MODEL_31a43859b0884d3cbb493472712a43ed",
            "value": " 570/570 [00:00&lt;00:00, 9.14kB/s]"
          }
        },
        "2a39dc43e20b436fb17577165623c16e": {
          "model_module": "@jupyter-widgets/base",
          "model_name": "LayoutModel",
          "model_module_version": "1.2.0",
          "state": {
            "_model_module": "@jupyter-widgets/base",
            "_model_module_version": "1.2.0",
            "_model_name": "LayoutModel",
            "_view_count": null,
            "_view_module": "@jupyter-widgets/base",
            "_view_module_version": "1.2.0",
            "_view_name": "LayoutView",
            "align_content": null,
            "align_items": null,
            "align_self": null,
            "border": null,
            "bottom": null,
            "display": null,
            "flex": null,
            "flex_flow": null,
            "grid_area": null,
            "grid_auto_columns": null,
            "grid_auto_flow": null,
            "grid_auto_rows": null,
            "grid_column": null,
            "grid_gap": null,
            "grid_row": null,
            "grid_template_areas": null,
            "grid_template_columns": null,
            "grid_template_rows": null,
            "height": null,
            "justify_content": null,
            "justify_items": null,
            "left": null,
            "margin": null,
            "max_height": null,
            "max_width": null,
            "min_height": null,
            "min_width": null,
            "object_fit": null,
            "object_position": null,
            "order": null,
            "overflow": null,
            "overflow_x": null,
            "overflow_y": null,
            "padding": null,
            "right": null,
            "top": null,
            "visibility": null,
            "width": null
          }
        },
        "01c0803ebfa04f31a9688ff2abee3a4b": {
          "model_module": "@jupyter-widgets/base",
          "model_name": "LayoutModel",
          "model_module_version": "1.2.0",
          "state": {
            "_model_module": "@jupyter-widgets/base",
            "_model_module_version": "1.2.0",
            "_model_name": "LayoutModel",
            "_view_count": null,
            "_view_module": "@jupyter-widgets/base",
            "_view_module_version": "1.2.0",
            "_view_name": "LayoutView",
            "align_content": null,
            "align_items": null,
            "align_self": null,
            "border": null,
            "bottom": null,
            "display": null,
            "flex": null,
            "flex_flow": null,
            "grid_area": null,
            "grid_auto_columns": null,
            "grid_auto_flow": null,
            "grid_auto_rows": null,
            "grid_column": null,
            "grid_gap": null,
            "grid_row": null,
            "grid_template_areas": null,
            "grid_template_columns": null,
            "grid_template_rows": null,
            "height": null,
            "justify_content": null,
            "justify_items": null,
            "left": null,
            "margin": null,
            "max_height": null,
            "max_width": null,
            "min_height": null,
            "min_width": null,
            "object_fit": null,
            "object_position": null,
            "order": null,
            "overflow": null,
            "overflow_x": null,
            "overflow_y": null,
            "padding": null,
            "right": null,
            "top": null,
            "visibility": null,
            "width": null
          }
        },
        "ebf81be572c54ee6b4381100d443d29a": {
          "model_module": "@jupyter-widgets/controls",
          "model_name": "DescriptionStyleModel",
          "model_module_version": "1.5.0",
          "state": {
            "_model_module": "@jupyter-widgets/controls",
            "_model_module_version": "1.5.0",
            "_model_name": "DescriptionStyleModel",
            "_view_count": null,
            "_view_module": "@jupyter-widgets/base",
            "_view_module_version": "1.2.0",
            "_view_name": "StyleView",
            "description_width": ""
          }
        },
        "825a6af4aaaf4f0b9b2edcd09d689c83": {
          "model_module": "@jupyter-widgets/base",
          "model_name": "LayoutModel",
          "model_module_version": "1.2.0",
          "state": {
            "_model_module": "@jupyter-widgets/base",
            "_model_module_version": "1.2.0",
            "_model_name": "LayoutModel",
            "_view_count": null,
            "_view_module": "@jupyter-widgets/base",
            "_view_module_version": "1.2.0",
            "_view_name": "LayoutView",
            "align_content": null,
            "align_items": null,
            "align_self": null,
            "border": null,
            "bottom": null,
            "display": null,
            "flex": null,
            "flex_flow": null,
            "grid_area": null,
            "grid_auto_columns": null,
            "grid_auto_flow": null,
            "grid_auto_rows": null,
            "grid_column": null,
            "grid_gap": null,
            "grid_row": null,
            "grid_template_areas": null,
            "grid_template_columns": null,
            "grid_template_rows": null,
            "height": null,
            "justify_content": null,
            "justify_items": null,
            "left": null,
            "margin": null,
            "max_height": null,
            "max_width": null,
            "min_height": null,
            "min_width": null,
            "object_fit": null,
            "object_position": null,
            "order": null,
            "overflow": null,
            "overflow_x": null,
            "overflow_y": null,
            "padding": null,
            "right": null,
            "top": null,
            "visibility": null,
            "width": null
          }
        },
        "d3e974ea0fc44d5a94cea6dd6ee65ddb": {
          "model_module": "@jupyter-widgets/controls",
          "model_name": "ProgressStyleModel",
          "model_module_version": "1.5.0",
          "state": {
            "_model_module": "@jupyter-widgets/controls",
            "_model_module_version": "1.5.0",
            "_model_name": "ProgressStyleModel",
            "_view_count": null,
            "_view_module": "@jupyter-widgets/base",
            "_view_module_version": "1.2.0",
            "_view_name": "StyleView",
            "bar_color": null,
            "description_width": ""
          }
        },
        "02d5cd2aff894642be101725fdd5622a": {
          "model_module": "@jupyter-widgets/base",
          "model_name": "LayoutModel",
          "model_module_version": "1.2.0",
          "state": {
            "_model_module": "@jupyter-widgets/base",
            "_model_module_version": "1.2.0",
            "_model_name": "LayoutModel",
            "_view_count": null,
            "_view_module": "@jupyter-widgets/base",
            "_view_module_version": "1.2.0",
            "_view_name": "LayoutView",
            "align_content": null,
            "align_items": null,
            "align_self": null,
            "border": null,
            "bottom": null,
            "display": null,
            "flex": null,
            "flex_flow": null,
            "grid_area": null,
            "grid_auto_columns": null,
            "grid_auto_flow": null,
            "grid_auto_rows": null,
            "grid_column": null,
            "grid_gap": null,
            "grid_row": null,
            "grid_template_areas": null,
            "grid_template_columns": null,
            "grid_template_rows": null,
            "height": null,
            "justify_content": null,
            "justify_items": null,
            "left": null,
            "margin": null,
            "max_height": null,
            "max_width": null,
            "min_height": null,
            "min_width": null,
            "object_fit": null,
            "object_position": null,
            "order": null,
            "overflow": null,
            "overflow_x": null,
            "overflow_y": null,
            "padding": null,
            "right": null,
            "top": null,
            "visibility": null,
            "width": null
          }
        },
        "31a43859b0884d3cbb493472712a43ed": {
          "model_module": "@jupyter-widgets/controls",
          "model_name": "DescriptionStyleModel",
          "model_module_version": "1.5.0",
          "state": {
            "_model_module": "@jupyter-widgets/controls",
            "_model_module_version": "1.5.0",
            "_model_name": "DescriptionStyleModel",
            "_view_count": null,
            "_view_module": "@jupyter-widgets/base",
            "_view_module_version": "1.2.0",
            "_view_name": "StyleView",
            "description_width": ""
          }
        },
        "3d2b100130dc4985947b10558455970d": {
          "model_module": "@jupyter-widgets/controls",
          "model_name": "HBoxModel",
          "model_module_version": "1.5.0",
          "state": {
            "_dom_classes": [],
            "_model_module": "@jupyter-widgets/controls",
            "_model_module_version": "1.5.0",
            "_model_name": "HBoxModel",
            "_view_count": null,
            "_view_module": "@jupyter-widgets/controls",
            "_view_module_version": "1.5.0",
            "_view_name": "HBoxView",
            "box_style": "",
            "children": [
              "IPY_MODEL_7e23f6cf2d274c9b963407b0dbcaabd5",
              "IPY_MODEL_4b602807e98c4a649150cbd3396f89f0",
              "IPY_MODEL_12b26d59ed2e42eeb6e984a6ba196ecf"
            ],
            "layout": "IPY_MODEL_7c1a01931f7c4cdd8800bf2a8aa9745c"
          }
        },
        "7e23f6cf2d274c9b963407b0dbcaabd5": {
          "model_module": "@jupyter-widgets/controls",
          "model_name": "HTMLModel",
          "model_module_version": "1.5.0",
          "state": {
            "_dom_classes": [],
            "_model_module": "@jupyter-widgets/controls",
            "_model_module_version": "1.5.0",
            "_model_name": "HTMLModel",
            "_view_count": null,
            "_view_module": "@jupyter-widgets/controls",
            "_view_module_version": "1.5.0",
            "_view_name": "HTMLView",
            "description": "",
            "description_tooltip": null,
            "layout": "IPY_MODEL_adf3e125bc2540c9b04ff0f715e7dd42",
            "placeholder": "​",
            "style": "IPY_MODEL_d788cdbf93174f4c87460fc27771ed85",
            "value": "vocab.txt: 100%"
          }
        },
        "4b602807e98c4a649150cbd3396f89f0": {
          "model_module": "@jupyter-widgets/controls",
          "model_name": "FloatProgressModel",
          "model_module_version": "1.5.0",
          "state": {
            "_dom_classes": [],
            "_model_module": "@jupyter-widgets/controls",
            "_model_module_version": "1.5.0",
            "_model_name": "FloatProgressModel",
            "_view_count": null,
            "_view_module": "@jupyter-widgets/controls",
            "_view_module_version": "1.5.0",
            "_view_name": "ProgressView",
            "bar_style": "success",
            "description": "",
            "description_tooltip": null,
            "layout": "IPY_MODEL_3d75f00e0eb241f798dc0f5c512b4bdc",
            "max": 213450,
            "min": 0,
            "orientation": "horizontal",
            "style": "IPY_MODEL_6d20c2c3d1dd4cfb86b82b47030cec18",
            "value": 213450
          }
        },
        "12b26d59ed2e42eeb6e984a6ba196ecf": {
          "model_module": "@jupyter-widgets/controls",
          "model_name": "HTMLModel",
          "model_module_version": "1.5.0",
          "state": {
            "_dom_classes": [],
            "_model_module": "@jupyter-widgets/controls",
            "_model_module_version": "1.5.0",
            "_model_name": "HTMLModel",
            "_view_count": null,
            "_view_module": "@jupyter-widgets/controls",
            "_view_module_version": "1.5.0",
            "_view_name": "HTMLView",
            "description": "",
            "description_tooltip": null,
            "layout": "IPY_MODEL_7596f7052c7a42928c8f8aa9acd0dcde",
            "placeholder": "​",
            "style": "IPY_MODEL_88c2b40cad5c48c7a81524dffe81ebe4",
            "value": " 213k/213k [00:00&lt;00:00, 1.92MB/s]"
          }
        },
        "7c1a01931f7c4cdd8800bf2a8aa9745c": {
          "model_module": "@jupyter-widgets/base",
          "model_name": "LayoutModel",
          "model_module_version": "1.2.0",
          "state": {
            "_model_module": "@jupyter-widgets/base",
            "_model_module_version": "1.2.0",
            "_model_name": "LayoutModel",
            "_view_count": null,
            "_view_module": "@jupyter-widgets/base",
            "_view_module_version": "1.2.0",
            "_view_name": "LayoutView",
            "align_content": null,
            "align_items": null,
            "align_self": null,
            "border": null,
            "bottom": null,
            "display": null,
            "flex": null,
            "flex_flow": null,
            "grid_area": null,
            "grid_auto_columns": null,
            "grid_auto_flow": null,
            "grid_auto_rows": null,
            "grid_column": null,
            "grid_gap": null,
            "grid_row": null,
            "grid_template_areas": null,
            "grid_template_columns": null,
            "grid_template_rows": null,
            "height": null,
            "justify_content": null,
            "justify_items": null,
            "left": null,
            "margin": null,
            "max_height": null,
            "max_width": null,
            "min_height": null,
            "min_width": null,
            "object_fit": null,
            "object_position": null,
            "order": null,
            "overflow": null,
            "overflow_x": null,
            "overflow_y": null,
            "padding": null,
            "right": null,
            "top": null,
            "visibility": null,
            "width": null
          }
        },
        "adf3e125bc2540c9b04ff0f715e7dd42": {
          "model_module": "@jupyter-widgets/base",
          "model_name": "LayoutModel",
          "model_module_version": "1.2.0",
          "state": {
            "_model_module": "@jupyter-widgets/base",
            "_model_module_version": "1.2.0",
            "_model_name": "LayoutModel",
            "_view_count": null,
            "_view_module": "@jupyter-widgets/base",
            "_view_module_version": "1.2.0",
            "_view_name": "LayoutView",
            "align_content": null,
            "align_items": null,
            "align_self": null,
            "border": null,
            "bottom": null,
            "display": null,
            "flex": null,
            "flex_flow": null,
            "grid_area": null,
            "grid_auto_columns": null,
            "grid_auto_flow": null,
            "grid_auto_rows": null,
            "grid_column": null,
            "grid_gap": null,
            "grid_row": null,
            "grid_template_areas": null,
            "grid_template_columns": null,
            "grid_template_rows": null,
            "height": null,
            "justify_content": null,
            "justify_items": null,
            "left": null,
            "margin": null,
            "max_height": null,
            "max_width": null,
            "min_height": null,
            "min_width": null,
            "object_fit": null,
            "object_position": null,
            "order": null,
            "overflow": null,
            "overflow_x": null,
            "overflow_y": null,
            "padding": null,
            "right": null,
            "top": null,
            "visibility": null,
            "width": null
          }
        },
        "d788cdbf93174f4c87460fc27771ed85": {
          "model_module": "@jupyter-widgets/controls",
          "model_name": "DescriptionStyleModel",
          "model_module_version": "1.5.0",
          "state": {
            "_model_module": "@jupyter-widgets/controls",
            "_model_module_version": "1.5.0",
            "_model_name": "DescriptionStyleModel",
            "_view_count": null,
            "_view_module": "@jupyter-widgets/base",
            "_view_module_version": "1.2.0",
            "_view_name": "StyleView",
            "description_width": ""
          }
        },
        "3d75f00e0eb241f798dc0f5c512b4bdc": {
          "model_module": "@jupyter-widgets/base",
          "model_name": "LayoutModel",
          "model_module_version": "1.2.0",
          "state": {
            "_model_module": "@jupyter-widgets/base",
            "_model_module_version": "1.2.0",
            "_model_name": "LayoutModel",
            "_view_count": null,
            "_view_module": "@jupyter-widgets/base",
            "_view_module_version": "1.2.0",
            "_view_name": "LayoutView",
            "align_content": null,
            "align_items": null,
            "align_self": null,
            "border": null,
            "bottom": null,
            "display": null,
            "flex": null,
            "flex_flow": null,
            "grid_area": null,
            "grid_auto_columns": null,
            "grid_auto_flow": null,
            "grid_auto_rows": null,
            "grid_column": null,
            "grid_gap": null,
            "grid_row": null,
            "grid_template_areas": null,
            "grid_template_columns": null,
            "grid_template_rows": null,
            "height": null,
            "justify_content": null,
            "justify_items": null,
            "left": null,
            "margin": null,
            "max_height": null,
            "max_width": null,
            "min_height": null,
            "min_width": null,
            "object_fit": null,
            "object_position": null,
            "order": null,
            "overflow": null,
            "overflow_x": null,
            "overflow_y": null,
            "padding": null,
            "right": null,
            "top": null,
            "visibility": null,
            "width": null
          }
        },
        "6d20c2c3d1dd4cfb86b82b47030cec18": {
          "model_module": "@jupyter-widgets/controls",
          "model_name": "ProgressStyleModel",
          "model_module_version": "1.5.0",
          "state": {
            "_model_module": "@jupyter-widgets/controls",
            "_model_module_version": "1.5.0",
            "_model_name": "ProgressStyleModel",
            "_view_count": null,
            "_view_module": "@jupyter-widgets/base",
            "_view_module_version": "1.2.0",
            "_view_name": "StyleView",
            "bar_color": null,
            "description_width": ""
          }
        },
        "7596f7052c7a42928c8f8aa9acd0dcde": {
          "model_module": "@jupyter-widgets/base",
          "model_name": "LayoutModel",
          "model_module_version": "1.2.0",
          "state": {
            "_model_module": "@jupyter-widgets/base",
            "_model_module_version": "1.2.0",
            "_model_name": "LayoutModel",
            "_view_count": null,
            "_view_module": "@jupyter-widgets/base",
            "_view_module_version": "1.2.0",
            "_view_name": "LayoutView",
            "align_content": null,
            "align_items": null,
            "align_self": null,
            "border": null,
            "bottom": null,
            "display": null,
            "flex": null,
            "flex_flow": null,
            "grid_area": null,
            "grid_auto_columns": null,
            "grid_auto_flow": null,
            "grid_auto_rows": null,
            "grid_column": null,
            "grid_gap": null,
            "grid_row": null,
            "grid_template_areas": null,
            "grid_template_columns": null,
            "grid_template_rows": null,
            "height": null,
            "justify_content": null,
            "justify_items": null,
            "left": null,
            "margin": null,
            "max_height": null,
            "max_width": null,
            "min_height": null,
            "min_width": null,
            "object_fit": null,
            "object_position": null,
            "order": null,
            "overflow": null,
            "overflow_x": null,
            "overflow_y": null,
            "padding": null,
            "right": null,
            "top": null,
            "visibility": null,
            "width": null
          }
        },
        "88c2b40cad5c48c7a81524dffe81ebe4": {
          "model_module": "@jupyter-widgets/controls",
          "model_name": "DescriptionStyleModel",
          "model_module_version": "1.5.0",
          "state": {
            "_model_module": "@jupyter-widgets/controls",
            "_model_module_version": "1.5.0",
            "_model_name": "DescriptionStyleModel",
            "_view_count": null,
            "_view_module": "@jupyter-widgets/base",
            "_view_module_version": "1.2.0",
            "_view_name": "StyleView",
            "description_width": ""
          }
        },
        "7dfdb31dff2d42b487104ca8cd4cdcbd": {
          "model_module": "@jupyter-widgets/controls",
          "model_name": "HBoxModel",
          "model_module_version": "1.5.0",
          "state": {
            "_dom_classes": [],
            "_model_module": "@jupyter-widgets/controls",
            "_model_module_version": "1.5.0",
            "_model_name": "HBoxModel",
            "_view_count": null,
            "_view_module": "@jupyter-widgets/controls",
            "_view_module_version": "1.5.0",
            "_view_name": "HBoxView",
            "box_style": "",
            "children": [
              "IPY_MODEL_df12a2e2c2fd4c52a076fb36438c26f0",
              "IPY_MODEL_d289338a25f245278e66063a57fc06f8",
              "IPY_MODEL_6ddd3aa658644d60ac3c6f7bd1cfb18f"
            ],
            "layout": "IPY_MODEL_3dba6d5848bf4e5eb8f660c181f775f4"
          }
        },
        "df12a2e2c2fd4c52a076fb36438c26f0": {
          "model_module": "@jupyter-widgets/controls",
          "model_name": "HTMLModel",
          "model_module_version": "1.5.0",
          "state": {
            "_dom_classes": [],
            "_model_module": "@jupyter-widgets/controls",
            "_model_module_version": "1.5.0",
            "_model_name": "HTMLModel",
            "_view_count": null,
            "_view_module": "@jupyter-widgets/controls",
            "_view_module_version": "1.5.0",
            "_view_name": "HTMLView",
            "description": "",
            "description_tooltip": null,
            "layout": "IPY_MODEL_ab20c2c0b44c4940bbe4e015df75fbd6",
            "placeholder": "​",
            "style": "IPY_MODEL_60f2ef8c9a2b40dda94a0b7237a26133",
            "value": "tokenizer.json: 100%"
          }
        },
        "d289338a25f245278e66063a57fc06f8": {
          "model_module": "@jupyter-widgets/controls",
          "model_name": "FloatProgressModel",
          "model_module_version": "1.5.0",
          "state": {
            "_dom_classes": [],
            "_model_module": "@jupyter-widgets/controls",
            "_model_module_version": "1.5.0",
            "_model_name": "FloatProgressModel",
            "_view_count": null,
            "_view_module": "@jupyter-widgets/controls",
            "_view_module_version": "1.5.0",
            "_view_name": "ProgressView",
            "bar_style": "success",
            "description": "",
            "description_tooltip": null,
            "layout": "IPY_MODEL_658d42fa4f4241878c11d4c46b9d844d",
            "max": 435797,
            "min": 0,
            "orientation": "horizontal",
            "style": "IPY_MODEL_58c4e71112604dd69b70adf87dc5c34f",
            "value": 435797
          }
        },
        "6ddd3aa658644d60ac3c6f7bd1cfb18f": {
          "model_module": "@jupyter-widgets/controls",
          "model_name": "HTMLModel",
          "model_module_version": "1.5.0",
          "state": {
            "_dom_classes": [],
            "_model_module": "@jupyter-widgets/controls",
            "_model_module_version": "1.5.0",
            "_model_name": "HTMLModel",
            "_view_count": null,
            "_view_module": "@jupyter-widgets/controls",
            "_view_module_version": "1.5.0",
            "_view_name": "HTMLView",
            "description": "",
            "description_tooltip": null,
            "layout": "IPY_MODEL_b9ee3077182046e197216ffe4adbdb3c",
            "placeholder": "​",
            "style": "IPY_MODEL_890a29564cf646c89d08406a9fe9eeca",
            "value": " 436k/436k [00:00&lt;00:00, 2.63MB/s]"
          }
        },
        "3dba6d5848bf4e5eb8f660c181f775f4": {
          "model_module": "@jupyter-widgets/base",
          "model_name": "LayoutModel",
          "model_module_version": "1.2.0",
          "state": {
            "_model_module": "@jupyter-widgets/base",
            "_model_module_version": "1.2.0",
            "_model_name": "LayoutModel",
            "_view_count": null,
            "_view_module": "@jupyter-widgets/base",
            "_view_module_version": "1.2.0",
            "_view_name": "LayoutView",
            "align_content": null,
            "align_items": null,
            "align_self": null,
            "border": null,
            "bottom": null,
            "display": null,
            "flex": null,
            "flex_flow": null,
            "grid_area": null,
            "grid_auto_columns": null,
            "grid_auto_flow": null,
            "grid_auto_rows": null,
            "grid_column": null,
            "grid_gap": null,
            "grid_row": null,
            "grid_template_areas": null,
            "grid_template_columns": null,
            "grid_template_rows": null,
            "height": null,
            "justify_content": null,
            "justify_items": null,
            "left": null,
            "margin": null,
            "max_height": null,
            "max_width": null,
            "min_height": null,
            "min_width": null,
            "object_fit": null,
            "object_position": null,
            "order": null,
            "overflow": null,
            "overflow_x": null,
            "overflow_y": null,
            "padding": null,
            "right": null,
            "top": null,
            "visibility": null,
            "width": null
          }
        },
        "ab20c2c0b44c4940bbe4e015df75fbd6": {
          "model_module": "@jupyter-widgets/base",
          "model_name": "LayoutModel",
          "model_module_version": "1.2.0",
          "state": {
            "_model_module": "@jupyter-widgets/base",
            "_model_module_version": "1.2.0",
            "_model_name": "LayoutModel",
            "_view_count": null,
            "_view_module": "@jupyter-widgets/base",
            "_view_module_version": "1.2.0",
            "_view_name": "LayoutView",
            "align_content": null,
            "align_items": null,
            "align_self": null,
            "border": null,
            "bottom": null,
            "display": null,
            "flex": null,
            "flex_flow": null,
            "grid_area": null,
            "grid_auto_columns": null,
            "grid_auto_flow": null,
            "grid_auto_rows": null,
            "grid_column": null,
            "grid_gap": null,
            "grid_row": null,
            "grid_template_areas": null,
            "grid_template_columns": null,
            "grid_template_rows": null,
            "height": null,
            "justify_content": null,
            "justify_items": null,
            "left": null,
            "margin": null,
            "max_height": null,
            "max_width": null,
            "min_height": null,
            "min_width": null,
            "object_fit": null,
            "object_position": null,
            "order": null,
            "overflow": null,
            "overflow_x": null,
            "overflow_y": null,
            "padding": null,
            "right": null,
            "top": null,
            "visibility": null,
            "width": null
          }
        },
        "60f2ef8c9a2b40dda94a0b7237a26133": {
          "model_module": "@jupyter-widgets/controls",
          "model_name": "DescriptionStyleModel",
          "model_module_version": "1.5.0",
          "state": {
            "_model_module": "@jupyter-widgets/controls",
            "_model_module_version": "1.5.0",
            "_model_name": "DescriptionStyleModel",
            "_view_count": null,
            "_view_module": "@jupyter-widgets/base",
            "_view_module_version": "1.2.0",
            "_view_name": "StyleView",
            "description_width": ""
          }
        },
        "658d42fa4f4241878c11d4c46b9d844d": {
          "model_module": "@jupyter-widgets/base",
          "model_name": "LayoutModel",
          "model_module_version": "1.2.0",
          "state": {
            "_model_module": "@jupyter-widgets/base",
            "_model_module_version": "1.2.0",
            "_model_name": "LayoutModel",
            "_view_count": null,
            "_view_module": "@jupyter-widgets/base",
            "_view_module_version": "1.2.0",
            "_view_name": "LayoutView",
            "align_content": null,
            "align_items": null,
            "align_self": null,
            "border": null,
            "bottom": null,
            "display": null,
            "flex": null,
            "flex_flow": null,
            "grid_area": null,
            "grid_auto_columns": null,
            "grid_auto_flow": null,
            "grid_auto_rows": null,
            "grid_column": null,
            "grid_gap": null,
            "grid_row": null,
            "grid_template_areas": null,
            "grid_template_columns": null,
            "grid_template_rows": null,
            "height": null,
            "justify_content": null,
            "justify_items": null,
            "left": null,
            "margin": null,
            "max_height": null,
            "max_width": null,
            "min_height": null,
            "min_width": null,
            "object_fit": null,
            "object_position": null,
            "order": null,
            "overflow": null,
            "overflow_x": null,
            "overflow_y": null,
            "padding": null,
            "right": null,
            "top": null,
            "visibility": null,
            "width": null
          }
        },
        "58c4e71112604dd69b70adf87dc5c34f": {
          "model_module": "@jupyter-widgets/controls",
          "model_name": "ProgressStyleModel",
          "model_module_version": "1.5.0",
          "state": {
            "_model_module": "@jupyter-widgets/controls",
            "_model_module_version": "1.5.0",
            "_model_name": "ProgressStyleModel",
            "_view_count": null,
            "_view_module": "@jupyter-widgets/base",
            "_view_module_version": "1.2.0",
            "_view_name": "StyleView",
            "bar_color": null,
            "description_width": ""
          }
        },
        "b9ee3077182046e197216ffe4adbdb3c": {
          "model_module": "@jupyter-widgets/base",
          "model_name": "LayoutModel",
          "model_module_version": "1.2.0",
          "state": {
            "_model_module": "@jupyter-widgets/base",
            "_model_module_version": "1.2.0",
            "_model_name": "LayoutModel",
            "_view_count": null,
            "_view_module": "@jupyter-widgets/base",
            "_view_module_version": "1.2.0",
            "_view_name": "LayoutView",
            "align_content": null,
            "align_items": null,
            "align_self": null,
            "border": null,
            "bottom": null,
            "display": null,
            "flex": null,
            "flex_flow": null,
            "grid_area": null,
            "grid_auto_columns": null,
            "grid_auto_flow": null,
            "grid_auto_rows": null,
            "grid_column": null,
            "grid_gap": null,
            "grid_row": null,
            "grid_template_areas": null,
            "grid_template_columns": null,
            "grid_template_rows": null,
            "height": null,
            "justify_content": null,
            "justify_items": null,
            "left": null,
            "margin": null,
            "max_height": null,
            "max_width": null,
            "min_height": null,
            "min_width": null,
            "object_fit": null,
            "object_position": null,
            "order": null,
            "overflow": null,
            "overflow_x": null,
            "overflow_y": null,
            "padding": null,
            "right": null,
            "top": null,
            "visibility": null,
            "width": null
          }
        },
        "890a29564cf646c89d08406a9fe9eeca": {
          "model_module": "@jupyter-widgets/controls",
          "model_name": "DescriptionStyleModel",
          "model_module_version": "1.5.0",
          "state": {
            "_model_module": "@jupyter-widgets/controls",
            "_model_module_version": "1.5.0",
            "_model_name": "DescriptionStyleModel",
            "_view_count": null,
            "_view_module": "@jupyter-widgets/base",
            "_view_module_version": "1.2.0",
            "_view_name": "StyleView",
            "description_width": ""
          }
        },
        "81f90f5dbaa745b9810ca681f5912657": {
          "model_module": "@jupyter-widgets/controls",
          "model_name": "HBoxModel",
          "model_module_version": "1.5.0",
          "state": {
            "_dom_classes": [],
            "_model_module": "@jupyter-widgets/controls",
            "_model_module_version": "1.5.0",
            "_model_name": "HBoxModel",
            "_view_count": null,
            "_view_module": "@jupyter-widgets/controls",
            "_view_module_version": "1.5.0",
            "_view_name": "HBoxView",
            "box_style": "",
            "children": [
              "IPY_MODEL_89a9b9f6ff7a49789eef4ddbd31073e9",
              "IPY_MODEL_126d1551053e41ba9daada3b040bde91",
              "IPY_MODEL_e9103155b95d453199057878364f7826"
            ],
            "layout": "IPY_MODEL_db12276aa10a4d5d94d3a963d62d05a6"
          }
        },
        "89a9b9f6ff7a49789eef4ddbd31073e9": {
          "model_module": "@jupyter-widgets/controls",
          "model_name": "HTMLModel",
          "model_module_version": "1.5.0",
          "state": {
            "_dom_classes": [],
            "_model_module": "@jupyter-widgets/controls",
            "_model_module_version": "1.5.0",
            "_model_name": "HTMLModel",
            "_view_count": null,
            "_view_module": "@jupyter-widgets/controls",
            "_view_module_version": "1.5.0",
            "_view_name": "HTMLView",
            "description": "",
            "description_tooltip": null,
            "layout": "IPY_MODEL_887d1f839669411a8ad2fb30f747af9b",
            "placeholder": "​",
            "style": "IPY_MODEL_7ab7909828034b41af97c187772c7f7f",
            "value": "tokenizer_config.json: 100%"
          }
        },
        "126d1551053e41ba9daada3b040bde91": {
          "model_module": "@jupyter-widgets/controls",
          "model_name": "FloatProgressModel",
          "model_module_version": "1.5.0",
          "state": {
            "_dom_classes": [],
            "_model_module": "@jupyter-widgets/controls",
            "_model_module_version": "1.5.0",
            "_model_name": "FloatProgressModel",
            "_view_count": null,
            "_view_module": "@jupyter-widgets/controls",
            "_view_module_version": "1.5.0",
            "_view_name": "ProgressView",
            "bar_style": "success",
            "description": "",
            "description_tooltip": null,
            "layout": "IPY_MODEL_d35e6f4070234b5b84c1a9f281caef76",
            "max": 28,
            "min": 0,
            "orientation": "horizontal",
            "style": "IPY_MODEL_60689dd1c4af4448af8ae02760c4b428",
            "value": 28
          }
        },
        "e9103155b95d453199057878364f7826": {
          "model_module": "@jupyter-widgets/controls",
          "model_name": "HTMLModel",
          "model_module_version": "1.5.0",
          "state": {
            "_dom_classes": [],
            "_model_module": "@jupyter-widgets/controls",
            "_model_module_version": "1.5.0",
            "_model_name": "HTMLModel",
            "_view_count": null,
            "_view_module": "@jupyter-widgets/controls",
            "_view_module_version": "1.5.0",
            "_view_name": "HTMLView",
            "description": "",
            "description_tooltip": null,
            "layout": "IPY_MODEL_d53601ba1e2c4828bb576a017d26334b",
            "placeholder": "​",
            "style": "IPY_MODEL_f47b0340a3de45a5bd582c2ac2f5c20e",
            "value": " 28.0/28.0 [00:00&lt;00:00, 438B/s]"
          }
        },
        "db12276aa10a4d5d94d3a963d62d05a6": {
          "model_module": "@jupyter-widgets/base",
          "model_name": "LayoutModel",
          "model_module_version": "1.2.0",
          "state": {
            "_model_module": "@jupyter-widgets/base",
            "_model_module_version": "1.2.0",
            "_model_name": "LayoutModel",
            "_view_count": null,
            "_view_module": "@jupyter-widgets/base",
            "_view_module_version": "1.2.0",
            "_view_name": "LayoutView",
            "align_content": null,
            "align_items": null,
            "align_self": null,
            "border": null,
            "bottom": null,
            "display": null,
            "flex": null,
            "flex_flow": null,
            "grid_area": null,
            "grid_auto_columns": null,
            "grid_auto_flow": null,
            "grid_auto_rows": null,
            "grid_column": null,
            "grid_gap": null,
            "grid_row": null,
            "grid_template_areas": null,
            "grid_template_columns": null,
            "grid_template_rows": null,
            "height": null,
            "justify_content": null,
            "justify_items": null,
            "left": null,
            "margin": null,
            "max_height": null,
            "max_width": null,
            "min_height": null,
            "min_width": null,
            "object_fit": null,
            "object_position": null,
            "order": null,
            "overflow": null,
            "overflow_x": null,
            "overflow_y": null,
            "padding": null,
            "right": null,
            "top": null,
            "visibility": null,
            "width": null
          }
        },
        "887d1f839669411a8ad2fb30f747af9b": {
          "model_module": "@jupyter-widgets/base",
          "model_name": "LayoutModel",
          "model_module_version": "1.2.0",
          "state": {
            "_model_module": "@jupyter-widgets/base",
            "_model_module_version": "1.2.0",
            "_model_name": "LayoutModel",
            "_view_count": null,
            "_view_module": "@jupyter-widgets/base",
            "_view_module_version": "1.2.0",
            "_view_name": "LayoutView",
            "align_content": null,
            "align_items": null,
            "align_self": null,
            "border": null,
            "bottom": null,
            "display": null,
            "flex": null,
            "flex_flow": null,
            "grid_area": null,
            "grid_auto_columns": null,
            "grid_auto_flow": null,
            "grid_auto_rows": null,
            "grid_column": null,
            "grid_gap": null,
            "grid_row": null,
            "grid_template_areas": null,
            "grid_template_columns": null,
            "grid_template_rows": null,
            "height": null,
            "justify_content": null,
            "justify_items": null,
            "left": null,
            "margin": null,
            "max_height": null,
            "max_width": null,
            "min_height": null,
            "min_width": null,
            "object_fit": null,
            "object_position": null,
            "order": null,
            "overflow": null,
            "overflow_x": null,
            "overflow_y": null,
            "padding": null,
            "right": null,
            "top": null,
            "visibility": null,
            "width": null
          }
        },
        "7ab7909828034b41af97c187772c7f7f": {
          "model_module": "@jupyter-widgets/controls",
          "model_name": "DescriptionStyleModel",
          "model_module_version": "1.5.0",
          "state": {
            "_model_module": "@jupyter-widgets/controls",
            "_model_module_version": "1.5.0",
            "_model_name": "DescriptionStyleModel",
            "_view_count": null,
            "_view_module": "@jupyter-widgets/base",
            "_view_module_version": "1.2.0",
            "_view_name": "StyleView",
            "description_width": ""
          }
        },
        "d35e6f4070234b5b84c1a9f281caef76": {
          "model_module": "@jupyter-widgets/base",
          "model_name": "LayoutModel",
          "model_module_version": "1.2.0",
          "state": {
            "_model_module": "@jupyter-widgets/base",
            "_model_module_version": "1.2.0",
            "_model_name": "LayoutModel",
            "_view_count": null,
            "_view_module": "@jupyter-widgets/base",
            "_view_module_version": "1.2.0",
            "_view_name": "LayoutView",
            "align_content": null,
            "align_items": null,
            "align_self": null,
            "border": null,
            "bottom": null,
            "display": null,
            "flex": null,
            "flex_flow": null,
            "grid_area": null,
            "grid_auto_columns": null,
            "grid_auto_flow": null,
            "grid_auto_rows": null,
            "grid_column": null,
            "grid_gap": null,
            "grid_row": null,
            "grid_template_areas": null,
            "grid_template_columns": null,
            "grid_template_rows": null,
            "height": null,
            "justify_content": null,
            "justify_items": null,
            "left": null,
            "margin": null,
            "max_height": null,
            "max_width": null,
            "min_height": null,
            "min_width": null,
            "object_fit": null,
            "object_position": null,
            "order": null,
            "overflow": null,
            "overflow_x": null,
            "overflow_y": null,
            "padding": null,
            "right": null,
            "top": null,
            "visibility": null,
            "width": null
          }
        },
        "60689dd1c4af4448af8ae02760c4b428": {
          "model_module": "@jupyter-widgets/controls",
          "model_name": "ProgressStyleModel",
          "model_module_version": "1.5.0",
          "state": {
            "_model_module": "@jupyter-widgets/controls",
            "_model_module_version": "1.5.0",
            "_model_name": "ProgressStyleModel",
            "_view_count": null,
            "_view_module": "@jupyter-widgets/base",
            "_view_module_version": "1.2.0",
            "_view_name": "StyleView",
            "bar_color": null,
            "description_width": ""
          }
        },
        "d53601ba1e2c4828bb576a017d26334b": {
          "model_module": "@jupyter-widgets/base",
          "model_name": "LayoutModel",
          "model_module_version": "1.2.0",
          "state": {
            "_model_module": "@jupyter-widgets/base",
            "_model_module_version": "1.2.0",
            "_model_name": "LayoutModel",
            "_view_count": null,
            "_view_module": "@jupyter-widgets/base",
            "_view_module_version": "1.2.0",
            "_view_name": "LayoutView",
            "align_content": null,
            "align_items": null,
            "align_self": null,
            "border": null,
            "bottom": null,
            "display": null,
            "flex": null,
            "flex_flow": null,
            "grid_area": null,
            "grid_auto_columns": null,
            "grid_auto_flow": null,
            "grid_auto_rows": null,
            "grid_column": null,
            "grid_gap": null,
            "grid_row": null,
            "grid_template_areas": null,
            "grid_template_columns": null,
            "grid_template_rows": null,
            "height": null,
            "justify_content": null,
            "justify_items": null,
            "left": null,
            "margin": null,
            "max_height": null,
            "max_width": null,
            "min_height": null,
            "min_width": null,
            "object_fit": null,
            "object_position": null,
            "order": null,
            "overflow": null,
            "overflow_x": null,
            "overflow_y": null,
            "padding": null,
            "right": null,
            "top": null,
            "visibility": null,
            "width": null
          }
        },
        "f47b0340a3de45a5bd582c2ac2f5c20e": {
          "model_module": "@jupyter-widgets/controls",
          "model_name": "DescriptionStyleModel",
          "model_module_version": "1.5.0",
          "state": {
            "_model_module": "@jupyter-widgets/controls",
            "_model_module_version": "1.5.0",
            "_model_name": "DescriptionStyleModel",
            "_view_count": null,
            "_view_module": "@jupyter-widgets/base",
            "_view_module_version": "1.2.0",
            "_view_name": "StyleView",
            "description_width": ""
          }
        },
        "f3db5ffae1144bc5bea0e0db0dd29eb7": {
          "model_module": "@jupyter-widgets/controls",
          "model_name": "HBoxModel",
          "model_module_version": "1.5.0",
          "state": {
            "_dom_classes": [],
            "_model_module": "@jupyter-widgets/controls",
            "_model_module_version": "1.5.0",
            "_model_name": "HBoxModel",
            "_view_count": null,
            "_view_module": "@jupyter-widgets/controls",
            "_view_module_version": "1.5.0",
            "_view_name": "HBoxView",
            "box_style": "",
            "children": [
              "IPY_MODEL_08baf286d6f74722b69c3627a758eb9f",
              "IPY_MODEL_ffcfb93097c142d39c4f799b5c51538c",
              "IPY_MODEL_314b70f6f8a04510ba1370aab8ac8fe7"
            ],
            "layout": "IPY_MODEL_c133c7b2875b42ccbff3af2b24064fca"
          }
        },
        "08baf286d6f74722b69c3627a758eb9f": {
          "model_module": "@jupyter-widgets/controls",
          "model_name": "HTMLModel",
          "model_module_version": "1.5.0",
          "state": {
            "_dom_classes": [],
            "_model_module": "@jupyter-widgets/controls",
            "_model_module_version": "1.5.0",
            "_model_name": "HTMLModel",
            "_view_count": null,
            "_view_module": "@jupyter-widgets/controls",
            "_view_module_version": "1.5.0",
            "_view_name": "HTMLView",
            "description": "",
            "description_tooltip": null,
            "layout": "IPY_MODEL_94562a3b111d4fa3b3a430e8e35d339b",
            "placeholder": "​",
            "style": "IPY_MODEL_debc1914f408401e95f60409bf2925d0",
            "value": "vocab.txt: 100%"
          }
        },
        "ffcfb93097c142d39c4f799b5c51538c": {
          "model_module": "@jupyter-widgets/controls",
          "model_name": "FloatProgressModel",
          "model_module_version": "1.5.0",
          "state": {
            "_dom_classes": [],
            "_model_module": "@jupyter-widgets/controls",
            "_model_module_version": "1.5.0",
            "_model_name": "FloatProgressModel",
            "_view_count": null,
            "_view_module": "@jupyter-widgets/controls",
            "_view_module_version": "1.5.0",
            "_view_name": "ProgressView",
            "bar_style": "success",
            "description": "",
            "description_tooltip": null,
            "layout": "IPY_MODEL_44175b2f11e544a4bcf03b8b778db53a",
            "max": 231508,
            "min": 0,
            "orientation": "horizontal",
            "style": "IPY_MODEL_19a9ebdc6c1d4f0290fa50906ac2fbe1",
            "value": 231508
          }
        },
        "314b70f6f8a04510ba1370aab8ac8fe7": {
          "model_module": "@jupyter-widgets/controls",
          "model_name": "HTMLModel",
          "model_module_version": "1.5.0",
          "state": {
            "_dom_classes": [],
            "_model_module": "@jupyter-widgets/controls",
            "_model_module_version": "1.5.0",
            "_model_name": "HTMLModel",
            "_view_count": null,
            "_view_module": "@jupyter-widgets/controls",
            "_view_module_version": "1.5.0",
            "_view_name": "HTMLView",
            "description": "",
            "description_tooltip": null,
            "layout": "IPY_MODEL_f82f524e9c964820abecf92f363fa70c",
            "placeholder": "​",
            "style": "IPY_MODEL_12d535d544214283b73433482f4236af",
            "value": " 232k/232k [00:00&lt;00:00, 3.17MB/s]"
          }
        },
        "c133c7b2875b42ccbff3af2b24064fca": {
          "model_module": "@jupyter-widgets/base",
          "model_name": "LayoutModel",
          "model_module_version": "1.2.0",
          "state": {
            "_model_module": "@jupyter-widgets/base",
            "_model_module_version": "1.2.0",
            "_model_name": "LayoutModel",
            "_view_count": null,
            "_view_module": "@jupyter-widgets/base",
            "_view_module_version": "1.2.0",
            "_view_name": "LayoutView",
            "align_content": null,
            "align_items": null,
            "align_self": null,
            "border": null,
            "bottom": null,
            "display": null,
            "flex": null,
            "flex_flow": null,
            "grid_area": null,
            "grid_auto_columns": null,
            "grid_auto_flow": null,
            "grid_auto_rows": null,
            "grid_column": null,
            "grid_gap": null,
            "grid_row": null,
            "grid_template_areas": null,
            "grid_template_columns": null,
            "grid_template_rows": null,
            "height": null,
            "justify_content": null,
            "justify_items": null,
            "left": null,
            "margin": null,
            "max_height": null,
            "max_width": null,
            "min_height": null,
            "min_width": null,
            "object_fit": null,
            "object_position": null,
            "order": null,
            "overflow": null,
            "overflow_x": null,
            "overflow_y": null,
            "padding": null,
            "right": null,
            "top": null,
            "visibility": null,
            "width": null
          }
        },
        "94562a3b111d4fa3b3a430e8e35d339b": {
          "model_module": "@jupyter-widgets/base",
          "model_name": "LayoutModel",
          "model_module_version": "1.2.0",
          "state": {
            "_model_module": "@jupyter-widgets/base",
            "_model_module_version": "1.2.0",
            "_model_name": "LayoutModel",
            "_view_count": null,
            "_view_module": "@jupyter-widgets/base",
            "_view_module_version": "1.2.0",
            "_view_name": "LayoutView",
            "align_content": null,
            "align_items": null,
            "align_self": null,
            "border": null,
            "bottom": null,
            "display": null,
            "flex": null,
            "flex_flow": null,
            "grid_area": null,
            "grid_auto_columns": null,
            "grid_auto_flow": null,
            "grid_auto_rows": null,
            "grid_column": null,
            "grid_gap": null,
            "grid_row": null,
            "grid_template_areas": null,
            "grid_template_columns": null,
            "grid_template_rows": null,
            "height": null,
            "justify_content": null,
            "justify_items": null,
            "left": null,
            "margin": null,
            "max_height": null,
            "max_width": null,
            "min_height": null,
            "min_width": null,
            "object_fit": null,
            "object_position": null,
            "order": null,
            "overflow": null,
            "overflow_x": null,
            "overflow_y": null,
            "padding": null,
            "right": null,
            "top": null,
            "visibility": null,
            "width": null
          }
        },
        "debc1914f408401e95f60409bf2925d0": {
          "model_module": "@jupyter-widgets/controls",
          "model_name": "DescriptionStyleModel",
          "model_module_version": "1.5.0",
          "state": {
            "_model_module": "@jupyter-widgets/controls",
            "_model_module_version": "1.5.0",
            "_model_name": "DescriptionStyleModel",
            "_view_count": null,
            "_view_module": "@jupyter-widgets/base",
            "_view_module_version": "1.2.0",
            "_view_name": "StyleView",
            "description_width": ""
          }
        },
        "44175b2f11e544a4bcf03b8b778db53a": {
          "model_module": "@jupyter-widgets/base",
          "model_name": "LayoutModel",
          "model_module_version": "1.2.0",
          "state": {
            "_model_module": "@jupyter-widgets/base",
            "_model_module_version": "1.2.0",
            "_model_name": "LayoutModel",
            "_view_count": null,
            "_view_module": "@jupyter-widgets/base",
            "_view_module_version": "1.2.0",
            "_view_name": "LayoutView",
            "align_content": null,
            "align_items": null,
            "align_self": null,
            "border": null,
            "bottom": null,
            "display": null,
            "flex": null,
            "flex_flow": null,
            "grid_area": null,
            "grid_auto_columns": null,
            "grid_auto_flow": null,
            "grid_auto_rows": null,
            "grid_column": null,
            "grid_gap": null,
            "grid_row": null,
            "grid_template_areas": null,
            "grid_template_columns": null,
            "grid_template_rows": null,
            "height": null,
            "justify_content": null,
            "justify_items": null,
            "left": null,
            "margin": null,
            "max_height": null,
            "max_width": null,
            "min_height": null,
            "min_width": null,
            "object_fit": null,
            "object_position": null,
            "order": null,
            "overflow": null,
            "overflow_x": null,
            "overflow_y": null,
            "padding": null,
            "right": null,
            "top": null,
            "visibility": null,
            "width": null
          }
        },
        "19a9ebdc6c1d4f0290fa50906ac2fbe1": {
          "model_module": "@jupyter-widgets/controls",
          "model_name": "ProgressStyleModel",
          "model_module_version": "1.5.0",
          "state": {
            "_model_module": "@jupyter-widgets/controls",
            "_model_module_version": "1.5.0",
            "_model_name": "ProgressStyleModel",
            "_view_count": null,
            "_view_module": "@jupyter-widgets/base",
            "_view_module_version": "1.2.0",
            "_view_name": "StyleView",
            "bar_color": null,
            "description_width": ""
          }
        },
        "f82f524e9c964820abecf92f363fa70c": {
          "model_module": "@jupyter-widgets/base",
          "model_name": "LayoutModel",
          "model_module_version": "1.2.0",
          "state": {
            "_model_module": "@jupyter-widgets/base",
            "_model_module_version": "1.2.0",
            "_model_name": "LayoutModel",
            "_view_count": null,
            "_view_module": "@jupyter-widgets/base",
            "_view_module_version": "1.2.0",
            "_view_name": "LayoutView",
            "align_content": null,
            "align_items": null,
            "align_self": null,
            "border": null,
            "bottom": null,
            "display": null,
            "flex": null,
            "flex_flow": null,
            "grid_area": null,
            "grid_auto_columns": null,
            "grid_auto_flow": null,
            "grid_auto_rows": null,
            "grid_column": null,
            "grid_gap": null,
            "grid_row": null,
            "grid_template_areas": null,
            "grid_template_columns": null,
            "grid_template_rows": null,
            "height": null,
            "justify_content": null,
            "justify_items": null,
            "left": null,
            "margin": null,
            "max_height": null,
            "max_width": null,
            "min_height": null,
            "min_width": null,
            "object_fit": null,
            "object_position": null,
            "order": null,
            "overflow": null,
            "overflow_x": null,
            "overflow_y": null,
            "padding": null,
            "right": null,
            "top": null,
            "visibility": null,
            "width": null
          }
        },
        "12d535d544214283b73433482f4236af": {
          "model_module": "@jupyter-widgets/controls",
          "model_name": "DescriptionStyleModel",
          "model_module_version": "1.5.0",
          "state": {
            "_model_module": "@jupyter-widgets/controls",
            "_model_module_version": "1.5.0",
            "_model_name": "DescriptionStyleModel",
            "_view_count": null,
            "_view_module": "@jupyter-widgets/base",
            "_view_module_version": "1.2.0",
            "_view_name": "StyleView",
            "description_width": ""
          }
        },
        "b14c96a25683453ba47afeee784bdc64": {
          "model_module": "@jupyter-widgets/controls",
          "model_name": "HBoxModel",
          "model_module_version": "1.5.0",
          "state": {
            "_dom_classes": [],
            "_model_module": "@jupyter-widgets/controls",
            "_model_module_version": "1.5.0",
            "_model_name": "HBoxModel",
            "_view_count": null,
            "_view_module": "@jupyter-widgets/controls",
            "_view_module_version": "1.5.0",
            "_view_name": "HBoxView",
            "box_style": "",
            "children": [
              "IPY_MODEL_d7bfa45d9ec94cec9200f5a85b28166f",
              "IPY_MODEL_897220fa9b4847c4b881c4d38ee7fcc8",
              "IPY_MODEL_40ab2cc382094504b7e7f019e9dcac16"
            ],
            "layout": "IPY_MODEL_0418e4bea8874aaf8ebc19ff0a91523c"
          }
        },
        "d7bfa45d9ec94cec9200f5a85b28166f": {
          "model_module": "@jupyter-widgets/controls",
          "model_name": "HTMLModel",
          "model_module_version": "1.5.0",
          "state": {
            "_dom_classes": [],
            "_model_module": "@jupyter-widgets/controls",
            "_model_module_version": "1.5.0",
            "_model_name": "HTMLModel",
            "_view_count": null,
            "_view_module": "@jupyter-widgets/controls",
            "_view_module_version": "1.5.0",
            "_view_name": "HTMLView",
            "description": "",
            "description_tooltip": null,
            "layout": "IPY_MODEL_0c60cbb6a42e45278e4f938f3d129a8e",
            "placeholder": "​",
            "style": "IPY_MODEL_1a21cbd42bcf40b9bef5c9fac17c7f6f",
            "value": "tokenizer.json: 100%"
          }
        },
        "897220fa9b4847c4b881c4d38ee7fcc8": {
          "model_module": "@jupyter-widgets/controls",
          "model_name": "FloatProgressModel",
          "model_module_version": "1.5.0",
          "state": {
            "_dom_classes": [],
            "_model_module": "@jupyter-widgets/controls",
            "_model_module_version": "1.5.0",
            "_model_name": "FloatProgressModel",
            "_view_count": null,
            "_view_module": "@jupyter-widgets/controls",
            "_view_module_version": "1.5.0",
            "_view_name": "ProgressView",
            "bar_style": "success",
            "description": "",
            "description_tooltip": null,
            "layout": "IPY_MODEL_cb9db25d5fb84e829ebab95096f6d00d",
            "max": 466062,
            "min": 0,
            "orientation": "horizontal",
            "style": "IPY_MODEL_eba95f9cd8ec46a19a725efd6421a516",
            "value": 466062
          }
        },
        "40ab2cc382094504b7e7f019e9dcac16": {
          "model_module": "@jupyter-widgets/controls",
          "model_name": "HTMLModel",
          "model_module_version": "1.5.0",
          "state": {
            "_dom_classes": [],
            "_model_module": "@jupyter-widgets/controls",
            "_model_module_version": "1.5.0",
            "_model_name": "HTMLModel",
            "_view_count": null,
            "_view_module": "@jupyter-widgets/controls",
            "_view_module_version": "1.5.0",
            "_view_name": "HTMLView",
            "description": "",
            "description_tooltip": null,
            "layout": "IPY_MODEL_6c418b55434f4da9afb83bb3a0adcd00",
            "placeholder": "​",
            "style": "IPY_MODEL_97ab32ccfc9a47378f06cb59242b5c32",
            "value": " 466k/466k [00:00&lt;00:00, 7.80MB/s]"
          }
        },
        "0418e4bea8874aaf8ebc19ff0a91523c": {
          "model_module": "@jupyter-widgets/base",
          "model_name": "LayoutModel",
          "model_module_version": "1.2.0",
          "state": {
            "_model_module": "@jupyter-widgets/base",
            "_model_module_version": "1.2.0",
            "_model_name": "LayoutModel",
            "_view_count": null,
            "_view_module": "@jupyter-widgets/base",
            "_view_module_version": "1.2.0",
            "_view_name": "LayoutView",
            "align_content": null,
            "align_items": null,
            "align_self": null,
            "border": null,
            "bottom": null,
            "display": null,
            "flex": null,
            "flex_flow": null,
            "grid_area": null,
            "grid_auto_columns": null,
            "grid_auto_flow": null,
            "grid_auto_rows": null,
            "grid_column": null,
            "grid_gap": null,
            "grid_row": null,
            "grid_template_areas": null,
            "grid_template_columns": null,
            "grid_template_rows": null,
            "height": null,
            "justify_content": null,
            "justify_items": null,
            "left": null,
            "margin": null,
            "max_height": null,
            "max_width": null,
            "min_height": null,
            "min_width": null,
            "object_fit": null,
            "object_position": null,
            "order": null,
            "overflow": null,
            "overflow_x": null,
            "overflow_y": null,
            "padding": null,
            "right": null,
            "top": null,
            "visibility": null,
            "width": null
          }
        },
        "0c60cbb6a42e45278e4f938f3d129a8e": {
          "model_module": "@jupyter-widgets/base",
          "model_name": "LayoutModel",
          "model_module_version": "1.2.0",
          "state": {
            "_model_module": "@jupyter-widgets/base",
            "_model_module_version": "1.2.0",
            "_model_name": "LayoutModel",
            "_view_count": null,
            "_view_module": "@jupyter-widgets/base",
            "_view_module_version": "1.2.0",
            "_view_name": "LayoutView",
            "align_content": null,
            "align_items": null,
            "align_self": null,
            "border": null,
            "bottom": null,
            "display": null,
            "flex": null,
            "flex_flow": null,
            "grid_area": null,
            "grid_auto_columns": null,
            "grid_auto_flow": null,
            "grid_auto_rows": null,
            "grid_column": null,
            "grid_gap": null,
            "grid_row": null,
            "grid_template_areas": null,
            "grid_template_columns": null,
            "grid_template_rows": null,
            "height": null,
            "justify_content": null,
            "justify_items": null,
            "left": null,
            "margin": null,
            "max_height": null,
            "max_width": null,
            "min_height": null,
            "min_width": null,
            "object_fit": null,
            "object_position": null,
            "order": null,
            "overflow": null,
            "overflow_x": null,
            "overflow_y": null,
            "padding": null,
            "right": null,
            "top": null,
            "visibility": null,
            "width": null
          }
        },
        "1a21cbd42bcf40b9bef5c9fac17c7f6f": {
          "model_module": "@jupyter-widgets/controls",
          "model_name": "DescriptionStyleModel",
          "model_module_version": "1.5.0",
          "state": {
            "_model_module": "@jupyter-widgets/controls",
            "_model_module_version": "1.5.0",
            "_model_name": "DescriptionStyleModel",
            "_view_count": null,
            "_view_module": "@jupyter-widgets/base",
            "_view_module_version": "1.2.0",
            "_view_name": "StyleView",
            "description_width": ""
          }
        },
        "cb9db25d5fb84e829ebab95096f6d00d": {
          "model_module": "@jupyter-widgets/base",
          "model_name": "LayoutModel",
          "model_module_version": "1.2.0",
          "state": {
            "_model_module": "@jupyter-widgets/base",
            "_model_module_version": "1.2.0",
            "_model_name": "LayoutModel",
            "_view_count": null,
            "_view_module": "@jupyter-widgets/base",
            "_view_module_version": "1.2.0",
            "_view_name": "LayoutView",
            "align_content": null,
            "align_items": null,
            "align_self": null,
            "border": null,
            "bottom": null,
            "display": null,
            "flex": null,
            "flex_flow": null,
            "grid_area": null,
            "grid_auto_columns": null,
            "grid_auto_flow": null,
            "grid_auto_rows": null,
            "grid_column": null,
            "grid_gap": null,
            "grid_row": null,
            "grid_template_areas": null,
            "grid_template_columns": null,
            "grid_template_rows": null,
            "height": null,
            "justify_content": null,
            "justify_items": null,
            "left": null,
            "margin": null,
            "max_height": null,
            "max_width": null,
            "min_height": null,
            "min_width": null,
            "object_fit": null,
            "object_position": null,
            "order": null,
            "overflow": null,
            "overflow_x": null,
            "overflow_y": null,
            "padding": null,
            "right": null,
            "top": null,
            "visibility": null,
            "width": null
          }
        },
        "eba95f9cd8ec46a19a725efd6421a516": {
          "model_module": "@jupyter-widgets/controls",
          "model_name": "ProgressStyleModel",
          "model_module_version": "1.5.0",
          "state": {
            "_model_module": "@jupyter-widgets/controls",
            "_model_module_version": "1.5.0",
            "_model_name": "ProgressStyleModel",
            "_view_count": null,
            "_view_module": "@jupyter-widgets/base",
            "_view_module_version": "1.2.0",
            "_view_name": "StyleView",
            "bar_color": null,
            "description_width": ""
          }
        },
        "6c418b55434f4da9afb83bb3a0adcd00": {
          "model_module": "@jupyter-widgets/base",
          "model_name": "LayoutModel",
          "model_module_version": "1.2.0",
          "state": {
            "_model_module": "@jupyter-widgets/base",
            "_model_module_version": "1.2.0",
            "_model_name": "LayoutModel",
            "_view_count": null,
            "_view_module": "@jupyter-widgets/base",
            "_view_module_version": "1.2.0",
            "_view_name": "LayoutView",
            "align_content": null,
            "align_items": null,
            "align_self": null,
            "border": null,
            "bottom": null,
            "display": null,
            "flex": null,
            "flex_flow": null,
            "grid_area": null,
            "grid_auto_columns": null,
            "grid_auto_flow": null,
            "grid_auto_rows": null,
            "grid_column": null,
            "grid_gap": null,
            "grid_row": null,
            "grid_template_areas": null,
            "grid_template_columns": null,
            "grid_template_rows": null,
            "height": null,
            "justify_content": null,
            "justify_items": null,
            "left": null,
            "margin": null,
            "max_height": null,
            "max_width": null,
            "min_height": null,
            "min_width": null,
            "object_fit": null,
            "object_position": null,
            "order": null,
            "overflow": null,
            "overflow_x": null,
            "overflow_y": null,
            "padding": null,
            "right": null,
            "top": null,
            "visibility": null,
            "width": null
          }
        },
        "97ab32ccfc9a47378f06cb59242b5c32": {
          "model_module": "@jupyter-widgets/controls",
          "model_name": "DescriptionStyleModel",
          "model_module_version": "1.5.0",
          "state": {
            "_model_module": "@jupyter-widgets/controls",
            "_model_module_version": "1.5.0",
            "_model_name": "DescriptionStyleModel",
            "_view_count": null,
            "_view_module": "@jupyter-widgets/base",
            "_view_module_version": "1.2.0",
            "_view_name": "StyleView",
            "description_width": ""
          }
        },
        "5521b360ae86434e8113e075a097c0a6": {
          "model_module": "@jupyter-widgets/controls",
          "model_name": "HBoxModel",
          "model_module_version": "1.5.0",
          "state": {
            "_dom_classes": [],
            "_model_module": "@jupyter-widgets/controls",
            "_model_module_version": "1.5.0",
            "_model_name": "HBoxModel",
            "_view_count": null,
            "_view_module": "@jupyter-widgets/controls",
            "_view_module_version": "1.5.0",
            "_view_name": "HBoxView",
            "box_style": "",
            "children": [
              "IPY_MODEL_a45fc9c442644926be8f454dc11aec51",
              "IPY_MODEL_7d7a4cb490db4bf49332781863545a3a",
              "IPY_MODEL_d4f7795e48734619ae27b51de42d280b"
            ],
            "layout": "IPY_MODEL_05a5fbd81d864266bf9f77782e3acc76"
          }
        },
        "a45fc9c442644926be8f454dc11aec51": {
          "model_module": "@jupyter-widgets/controls",
          "model_name": "HTMLModel",
          "model_module_version": "1.5.0",
          "state": {
            "_dom_classes": [],
            "_model_module": "@jupyter-widgets/controls",
            "_model_module_version": "1.5.0",
            "_model_name": "HTMLModel",
            "_view_count": null,
            "_view_module": "@jupyter-widgets/controls",
            "_view_module_version": "1.5.0",
            "_view_name": "HTMLView",
            "description": "",
            "description_tooltip": null,
            "layout": "IPY_MODEL_812af5c874f74711b84c742e41b70e6d",
            "placeholder": "​",
            "style": "IPY_MODEL_3f69e51d43944f999b8da76af8c19ee0",
            "value": "config.json: 100%"
          }
        },
        "7d7a4cb490db4bf49332781863545a3a": {
          "model_module": "@jupyter-widgets/controls",
          "model_name": "FloatProgressModel",
          "model_module_version": "1.5.0",
          "state": {
            "_dom_classes": [],
            "_model_module": "@jupyter-widgets/controls",
            "_model_module_version": "1.5.0",
            "_model_name": "FloatProgressModel",
            "_view_count": null,
            "_view_module": "@jupyter-widgets/controls",
            "_view_module_version": "1.5.0",
            "_view_name": "ProgressView",
            "bar_style": "success",
            "description": "",
            "description_tooltip": null,
            "layout": "IPY_MODEL_8deb0793f5d94186aed87bb7c8c6b519",
            "max": 570,
            "min": 0,
            "orientation": "horizontal",
            "style": "IPY_MODEL_7ca5b217cb6740afbadc6333345b36d6",
            "value": 570
          }
        },
        "d4f7795e48734619ae27b51de42d280b": {
          "model_module": "@jupyter-widgets/controls",
          "model_name": "HTMLModel",
          "model_module_version": "1.5.0",
          "state": {
            "_dom_classes": [],
            "_model_module": "@jupyter-widgets/controls",
            "_model_module_version": "1.5.0",
            "_model_name": "HTMLModel",
            "_view_count": null,
            "_view_module": "@jupyter-widgets/controls",
            "_view_module_version": "1.5.0",
            "_view_name": "HTMLView",
            "description": "",
            "description_tooltip": null,
            "layout": "IPY_MODEL_d701e935c2e44bea8c8a2c0c908ca554",
            "placeholder": "​",
            "style": "IPY_MODEL_8c0d4865b8a1473f8b3511ab9ce5dc36",
            "value": " 570/570 [00:00&lt;00:00, 15.2kB/s]"
          }
        },
        "05a5fbd81d864266bf9f77782e3acc76": {
          "model_module": "@jupyter-widgets/base",
          "model_name": "LayoutModel",
          "model_module_version": "1.2.0",
          "state": {
            "_model_module": "@jupyter-widgets/base",
            "_model_module_version": "1.2.0",
            "_model_name": "LayoutModel",
            "_view_count": null,
            "_view_module": "@jupyter-widgets/base",
            "_view_module_version": "1.2.0",
            "_view_name": "LayoutView",
            "align_content": null,
            "align_items": null,
            "align_self": null,
            "border": null,
            "bottom": null,
            "display": null,
            "flex": null,
            "flex_flow": null,
            "grid_area": null,
            "grid_auto_columns": null,
            "grid_auto_flow": null,
            "grid_auto_rows": null,
            "grid_column": null,
            "grid_gap": null,
            "grid_row": null,
            "grid_template_areas": null,
            "grid_template_columns": null,
            "grid_template_rows": null,
            "height": null,
            "justify_content": null,
            "justify_items": null,
            "left": null,
            "margin": null,
            "max_height": null,
            "max_width": null,
            "min_height": null,
            "min_width": null,
            "object_fit": null,
            "object_position": null,
            "order": null,
            "overflow": null,
            "overflow_x": null,
            "overflow_y": null,
            "padding": null,
            "right": null,
            "top": null,
            "visibility": null,
            "width": null
          }
        },
        "812af5c874f74711b84c742e41b70e6d": {
          "model_module": "@jupyter-widgets/base",
          "model_name": "LayoutModel",
          "model_module_version": "1.2.0",
          "state": {
            "_model_module": "@jupyter-widgets/base",
            "_model_module_version": "1.2.0",
            "_model_name": "LayoutModel",
            "_view_count": null,
            "_view_module": "@jupyter-widgets/base",
            "_view_module_version": "1.2.0",
            "_view_name": "LayoutView",
            "align_content": null,
            "align_items": null,
            "align_self": null,
            "border": null,
            "bottom": null,
            "display": null,
            "flex": null,
            "flex_flow": null,
            "grid_area": null,
            "grid_auto_columns": null,
            "grid_auto_flow": null,
            "grid_auto_rows": null,
            "grid_column": null,
            "grid_gap": null,
            "grid_row": null,
            "grid_template_areas": null,
            "grid_template_columns": null,
            "grid_template_rows": null,
            "height": null,
            "justify_content": null,
            "justify_items": null,
            "left": null,
            "margin": null,
            "max_height": null,
            "max_width": null,
            "min_height": null,
            "min_width": null,
            "object_fit": null,
            "object_position": null,
            "order": null,
            "overflow": null,
            "overflow_x": null,
            "overflow_y": null,
            "padding": null,
            "right": null,
            "top": null,
            "visibility": null,
            "width": null
          }
        },
        "3f69e51d43944f999b8da76af8c19ee0": {
          "model_module": "@jupyter-widgets/controls",
          "model_name": "DescriptionStyleModel",
          "model_module_version": "1.5.0",
          "state": {
            "_model_module": "@jupyter-widgets/controls",
            "_model_module_version": "1.5.0",
            "_model_name": "DescriptionStyleModel",
            "_view_count": null,
            "_view_module": "@jupyter-widgets/base",
            "_view_module_version": "1.2.0",
            "_view_name": "StyleView",
            "description_width": ""
          }
        },
        "8deb0793f5d94186aed87bb7c8c6b519": {
          "model_module": "@jupyter-widgets/base",
          "model_name": "LayoutModel",
          "model_module_version": "1.2.0",
          "state": {
            "_model_module": "@jupyter-widgets/base",
            "_model_module_version": "1.2.0",
            "_model_name": "LayoutModel",
            "_view_count": null,
            "_view_module": "@jupyter-widgets/base",
            "_view_module_version": "1.2.0",
            "_view_name": "LayoutView",
            "align_content": null,
            "align_items": null,
            "align_self": null,
            "border": null,
            "bottom": null,
            "display": null,
            "flex": null,
            "flex_flow": null,
            "grid_area": null,
            "grid_auto_columns": null,
            "grid_auto_flow": null,
            "grid_auto_rows": null,
            "grid_column": null,
            "grid_gap": null,
            "grid_row": null,
            "grid_template_areas": null,
            "grid_template_columns": null,
            "grid_template_rows": null,
            "height": null,
            "justify_content": null,
            "justify_items": null,
            "left": null,
            "margin": null,
            "max_height": null,
            "max_width": null,
            "min_height": null,
            "min_width": null,
            "object_fit": null,
            "object_position": null,
            "order": null,
            "overflow": null,
            "overflow_x": null,
            "overflow_y": null,
            "padding": null,
            "right": null,
            "top": null,
            "visibility": null,
            "width": null
          }
        },
        "7ca5b217cb6740afbadc6333345b36d6": {
          "model_module": "@jupyter-widgets/controls",
          "model_name": "ProgressStyleModel",
          "model_module_version": "1.5.0",
          "state": {
            "_model_module": "@jupyter-widgets/controls",
            "_model_module_version": "1.5.0",
            "_model_name": "ProgressStyleModel",
            "_view_count": null,
            "_view_module": "@jupyter-widgets/base",
            "_view_module_version": "1.2.0",
            "_view_name": "StyleView",
            "bar_color": null,
            "description_width": ""
          }
        },
        "d701e935c2e44bea8c8a2c0c908ca554": {
          "model_module": "@jupyter-widgets/base",
          "model_name": "LayoutModel",
          "model_module_version": "1.2.0",
          "state": {
            "_model_module": "@jupyter-widgets/base",
            "_model_module_version": "1.2.0",
            "_model_name": "LayoutModel",
            "_view_count": null,
            "_view_module": "@jupyter-widgets/base",
            "_view_module_version": "1.2.0",
            "_view_name": "LayoutView",
            "align_content": null,
            "align_items": null,
            "align_self": null,
            "border": null,
            "bottom": null,
            "display": null,
            "flex": null,
            "flex_flow": null,
            "grid_area": null,
            "grid_auto_columns": null,
            "grid_auto_flow": null,
            "grid_auto_rows": null,
            "grid_column": null,
            "grid_gap": null,
            "grid_row": null,
            "grid_template_areas": null,
            "grid_template_columns": null,
            "grid_template_rows": null,
            "height": null,
            "justify_content": null,
            "justify_items": null,
            "left": null,
            "margin": null,
            "max_height": null,
            "max_width": null,
            "min_height": null,
            "min_width": null,
            "object_fit": null,
            "object_position": null,
            "order": null,
            "overflow": null,
            "overflow_x": null,
            "overflow_y": null,
            "padding": null,
            "right": null,
            "top": null,
            "visibility": null,
            "width": null
          }
        },
        "8c0d4865b8a1473f8b3511ab9ce5dc36": {
          "model_module": "@jupyter-widgets/controls",
          "model_name": "DescriptionStyleModel",
          "model_module_version": "1.5.0",
          "state": {
            "_model_module": "@jupyter-widgets/controls",
            "_model_module_version": "1.5.0",
            "_model_name": "DescriptionStyleModel",
            "_view_count": null,
            "_view_module": "@jupyter-widgets/base",
            "_view_module_version": "1.2.0",
            "_view_name": "StyleView",
            "description_width": ""
          }
        }
      }
    }
  },
  "nbformat": 4,
  "nbformat_minor": 5
}